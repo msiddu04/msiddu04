{
 "cells": [
  {
   "cell_type": "code",
   "execution_count": 1,
   "id": "54e0d67b",
   "metadata": {},
   "outputs": [],
   "source": [
    "import numpy as np\n",
    "import pandas as pd"
   ]
  },
  {
   "cell_type": "code",
   "execution_count": 2,
   "id": "be4c668a",
   "metadata": {},
   "outputs": [
    {
     "data": {
      "text/html": [
       "<div>\n",
       "<style scoped>\n",
       "    .dataframe tbody tr th:only-of-type {\n",
       "        vertical-align: middle;\n",
       "    }\n",
       "\n",
       "    .dataframe tbody tr th {\n",
       "        vertical-align: top;\n",
       "    }\n",
       "\n",
       "    .dataframe thead th {\n",
       "        text-align: right;\n",
       "    }\n",
       "</style>\n",
       "<table border=\"1\" class=\"dataframe\">\n",
       "  <thead>\n",
       "    <tr style=\"text-align: right;\">\n",
       "      <th></th>\n",
       "      <th>SlNo</th>\n",
       "      <th>RollNumber</th>\n",
       "      <th>StudenNamet</th>\n",
       "      <th>Age</th>\n",
       "      <th>Spo2(%)</th>\n",
       "      <th>BPM</th>\n",
       "      <th>harerate(60-100)</th>\n",
       "      <th>Spo2(88-98%)</th>\n",
       "      <th>condition</th>\n",
       "    </tr>\n",
       "  </thead>\n",
       "  <tbody>\n",
       "    <tr>\n",
       "      <th>0</th>\n",
       "      <td>1</td>\n",
       "      <td>20VV1F0003</td>\n",
       "      <td>Kanakam Akanksha</td>\n",
       "      <td>22</td>\n",
       "      <td>94.8</td>\n",
       "      <td>72</td>\n",
       "      <td>Normal</td>\n",
       "      <td>Normal</td>\n",
       "      <td>healthy</td>\n",
       "    </tr>\n",
       "    <tr>\n",
       "      <th>1</th>\n",
       "      <td>2</td>\n",
       "      <td>20VV1F0004</td>\n",
       "      <td>Kotla Bhavani Sankar</td>\n",
       "      <td>27</td>\n",
       "      <td>97.8</td>\n",
       "      <td>99</td>\n",
       "      <td>Normal</td>\n",
       "      <td>Normal</td>\n",
       "      <td>healthy</td>\n",
       "    </tr>\n",
       "    <tr>\n",
       "      <th>2</th>\n",
       "      <td>3</td>\n",
       "      <td>20VV1F0005</td>\n",
       "      <td>Kotturu  Saikumar</td>\n",
       "      <td>17</td>\n",
       "      <td>97.8</td>\n",
       "      <td>58</td>\n",
       "      <td>low</td>\n",
       "      <td>Normal</td>\n",
       "      <td>lowHR : Bradycardia, weight gain</td>\n",
       "    </tr>\n",
       "    <tr>\n",
       "      <th>3</th>\n",
       "      <td>4</td>\n",
       "      <td>20VV1F0006</td>\n",
       "      <td>Lavanya Manchipilli</td>\n",
       "      <td>26</td>\n",
       "      <td>98.2</td>\n",
       "      <td>188</td>\n",
       "      <td>high</td>\n",
       "      <td>Normal</td>\n",
       "      <td>highHR: Tachycardia, heart Attack</td>\n",
       "    </tr>\n",
       "    <tr>\n",
       "      <th>4</th>\n",
       "      <td>5</td>\n",
       "      <td>20VV1F0007</td>\n",
       "      <td>Leelasri Chitrothu</td>\n",
       "      <td>18</td>\n",
       "      <td>97.7</td>\n",
       "      <td>89</td>\n",
       "      <td>Normal</td>\n",
       "      <td>Normal</td>\n",
       "      <td>healthy</td>\n",
       "    </tr>\n",
       "  </tbody>\n",
       "</table>\n",
       "</div>"
      ],
      "text/plain": [
       "   SlNo  RollNumber           StudenNamet  Age  Spo2(%)  BPM harerate(60-100)  \\\n",
       "0     1  20VV1F0003      Kanakam Akanksha   22     94.8   72           Normal   \n",
       "1     2  20VV1F0004  Kotla Bhavani Sankar   27     97.8   99           Normal   \n",
       "2     3  20VV1F0005     Kotturu  Saikumar   17     97.8   58              low   \n",
       "3     4  20VV1F0006   Lavanya Manchipilli   26     98.2  188             high   \n",
       "4     5  20VV1F0007    Leelasri Chitrothu   18     97.7   89           Normal   \n",
       "\n",
       "  Spo2(88-98%)                          condition  \n",
       "0       Normal                            healthy  \n",
       "1       Normal                            healthy  \n",
       "2       Normal   lowHR : Bradycardia, weight gain  \n",
       "3       Normal  highHR: Tachycardia, heart Attack  \n",
       "4       Normal                            healthy  "
      ]
     },
     "execution_count": 2,
     "metadata": {},
     "output_type": "execute_result"
    }
   ],
   "source": [
    "df = pd.read_csv('health.csv')\n",
    "df.head()"
   ]
  },
  {
   "cell_type": "code",
   "execution_count": 3,
   "id": "652208f7",
   "metadata": {},
   "outputs": [
    {
     "data": {
      "text/plain": [
       "SlNo                0\n",
       "RollNumber          0\n",
       " StudenNamet        0\n",
       "Age                 0\n",
       "Spo2(%)             0\n",
       "BPM                 0\n",
       "harerate(60-100)    0\n",
       "Spo2(88-98%)        0\n",
       "condition           0\n",
       "dtype: int64"
      ]
     },
     "execution_count": 3,
     "metadata": {},
     "output_type": "execute_result"
    }
   ],
   "source": [
    "df.isnull().sum()"
   ]
  },
  {
   "cell_type": "code",
   "execution_count": 4,
   "id": "bc116643",
   "metadata": {},
   "outputs": [
    {
     "data": {
      "text/plain": [
       "(950, 9)"
      ]
     },
     "execution_count": 4,
     "metadata": {},
     "output_type": "execute_result"
    }
   ],
   "source": [
    "df.shape"
   ]
  },
  {
   "cell_type": "markdown",
   "id": "390551ae",
   "metadata": {},
   "source": [
    "### input formation"
   ]
  },
  {
   "cell_type": "code",
   "execution_count": 5,
   "id": "4cc4c757",
   "metadata": {},
   "outputs": [
    {
     "data": {
      "text/html": [
       "<div>\n",
       "<style scoped>\n",
       "    .dataframe tbody tr th:only-of-type {\n",
       "        vertical-align: middle;\n",
       "    }\n",
       "\n",
       "    .dataframe tbody tr th {\n",
       "        vertical-align: top;\n",
       "    }\n",
       "\n",
       "    .dataframe thead th {\n",
       "        text-align: right;\n",
       "    }\n",
       "</style>\n",
       "<table border=\"1\" class=\"dataframe\">\n",
       "  <thead>\n",
       "    <tr style=\"text-align: right;\">\n",
       "      <th></th>\n",
       "      <th>{\"channel\":{\"id\":1787697</th>\n",
       "      <th>name:\"max30102\"</th>\n",
       "      <th>description:\"health monitoring\"</th>\n",
       "      <th>latitude:\"0.0\"</th>\n",
       "      <th>longitude:\"0.0\"</th>\n",
       "      <th>field1:\"heart beat\"</th>\n",
       "      <th>field2:\"spoi2\"</th>\n",
       "      <th>created_at:\"2022-07-02T10:57:26Z\"</th>\n",
       "      <th>updated_at:\"2022-07-02T10:57:27Z\"</th>\n",
       "      <th>last_entry_id:251}</th>\n",
       "      <th>feeds:[{\"created_at\":\"2022-09-27T03:06:04Z\"</th>\n",
       "      <th>entry_id:250</th>\n",
       "      <th>field1:\"74\"}</th>\n",
       "      <th>{\"created_at\":\"2022-09-27T03:06:23Z\"</th>\n",
       "      <th>entry_id:251</th>\n",
       "      <th>field1:\"74\"}]}</th>\n",
       "    </tr>\n",
       "  </thead>\n",
       "  <tbody>\n",
       "  </tbody>\n",
       "</table>\n",
       "</div>"
      ],
      "text/plain": [
       "Empty DataFrame\n",
       "Columns: [{\"channel\":{\"id\":1787697, name:\"max30102\", description:\"health monitoring\", latitude:\"0.0\", longitude:\"0.0\", field1:\"heart beat\", field2:\"spoi2\", created_at:\"2022-07-02T10:57:26Z\", updated_at:\"2022-07-02T10:57:27Z\", last_entry_id:251}, feeds:[{\"created_at\":\"2022-09-27T03:06:04Z\", entry_id:250, field1:\"74\"}, {\"created_at\":\"2022-09-27T03:06:23Z\", entry_id:251, field1:\"74\"}]}]\n",
       "Index: []"
      ]
     },
     "execution_count": 5,
     "metadata": {},
     "output_type": "execute_result"
    }
   ],
   "source": [
    "df1=pd.read_csv('https://api.thingspeak.com/channels/1787697/fields/1.json?api_key=J16WJXLTTQ0EM9LE&results=2')\n",
    "df1"
   ]
  },
  {
   "cell_type": "code",
   "execution_count": 6,
   "id": "0f59756b",
   "metadata": {},
   "outputs": [
    {
     "data": {
      "text/plain": [
       "'{\"channel\":{\"id\":1787697name:\"max30102\"description:\"health monitoring\"latitude:\"0.0\"longitude:\"0.0\"field1:\"heart beat\"field2:\"spoi2\"created_at:\"2022-07-02T10:57:26Z\"updated_at:\"2022-07-02T10:57:27Z\"last_entry_id:251}feeds:[{\"created_at\":\"2022-09-27T03:06:04Z\"entry_id:250field1:\"74\"}{\"created_at\":\"2022-09-27T03:06:23Z\"entry_id:251field1:\"74\"}]}'"
      ]
     },
     "execution_count": 6,
     "metadata": {},
     "output_type": "execute_result"
    }
   ],
   "source": [
    "s=''\n",
    "d=s.join(df1) \n",
    "d"
   ]
  },
  {
   "cell_type": "code",
   "execution_count": 7,
   "id": "7e10e828",
   "metadata": {},
   "outputs": [
    {
     "data": {
      "text/plain": [
       "'\"created_at\":\"2022-09-27T03:06:23Z\"entry_id:251field1:\"74\"}]}'"
      ]
     },
     "execution_count": 7,
     "metadata": {},
     "output_type": "execute_result"
    }
   ],
   "source": [
    "x = d.split(\"{\")\n",
    "y=x[4] \n",
    "y"
   ]
  },
  {
   "cell_type": "code",
   "execution_count": 8,
   "id": "3d8b6514",
   "metadata": {},
   "outputs": [
    {
     "data": {
      "text/plain": [
       "'created_at:2022-09-27T03:06:23Zentry_id:251field1:74'"
      ]
     },
     "execution_count": 8,
     "metadata": {},
     "output_type": "execute_result"
    }
   ],
   "source": [
    "sp_chars = [';', '\"', \"*\",'[',']','{','}'] \n",
    "givenStr = y\n",
    "givenStr = ''.join(i for i in givenStr if not i in sp_chars) \n",
    "givenStr"
   ]
  },
  {
   "cell_type": "code",
   "execution_count": 9,
   "id": "ddee0315",
   "metadata": {},
   "outputs": [],
   "source": [
    "m = givenStr.split(':') \n",
    "a=m[len(m)-1] \n",
    "f=m[len(m)-2]"
   ]
  },
  {
   "cell_type": "code",
   "execution_count": 10,
   "id": "77fdc424",
   "metadata": {},
   "outputs": [
    {
     "data": {
      "text/plain": [
       "'2511'"
      ]
     },
     "execution_count": 10,
     "metadata": {},
     "output_type": "execute_result"
    }
   ],
   "source": [
    "string = ''.join((element for element in f if element.isdigit()))\n",
    "string"
   ]
  },
  {
   "cell_type": "code",
   "execution_count": 11,
   "id": "370ce8cf",
   "metadata": {},
   "outputs": [],
   "source": [
    "b=string[:-1]"
   ]
  },
  {
   "cell_type": "code",
   "execution_count": 12,
   "id": "40523ef2",
   "metadata": {},
   "outputs": [
    {
     "name": "stdout",
     "output_type": "stream",
     "text": [
      "74 251\n"
     ]
    }
   ],
   "source": [
    "a=int(a) \n",
    "b=int(b)\n",
    "print(a,b)"
   ]
  },
  {
   "cell_type": "code",
   "execution_count": 13,
   "id": "f15c83a2",
   "metadata": {},
   "outputs": [],
   "source": [
    "from sklearn import preprocessing\n",
    "le = preprocessing.LabelEncoder()"
   ]
  },
  {
   "cell_type": "code",
   "execution_count": 14,
   "id": "08d79beb",
   "metadata": {},
   "outputs": [],
   "source": [
    "df['harerate(60-100)']= le.fit_transform(df['harerate(60-100)'])\n",
    "df['Spo2(88-98%)']= le.fit_transform(df['Spo2(88-98%)'])\n"
   ]
  },
  {
   "cell_type": "code",
   "execution_count": 15,
   "id": "f36c2704",
   "metadata": {},
   "outputs": [
    {
     "data": {
      "text/html": [
       "<div>\n",
       "<style scoped>\n",
       "    .dataframe tbody tr th:only-of-type {\n",
       "        vertical-align: middle;\n",
       "    }\n",
       "\n",
       "    .dataframe tbody tr th {\n",
       "        vertical-align: top;\n",
       "    }\n",
       "\n",
       "    .dataframe thead th {\n",
       "        text-align: right;\n",
       "    }\n",
       "</style>\n",
       "<table border=\"1\" class=\"dataframe\">\n",
       "  <thead>\n",
       "    <tr style=\"text-align: right;\">\n",
       "      <th></th>\n",
       "      <th>SlNo</th>\n",
       "      <th>RollNumber</th>\n",
       "      <th>StudenNamet</th>\n",
       "      <th>Age</th>\n",
       "      <th>Spo2(%)</th>\n",
       "      <th>BPM</th>\n",
       "      <th>harerate(60-100)</th>\n",
       "      <th>Spo2(88-98%)</th>\n",
       "      <th>condition</th>\n",
       "    </tr>\n",
       "  </thead>\n",
       "  <tbody>\n",
       "    <tr>\n",
       "      <th>0</th>\n",
       "      <td>1</td>\n",
       "      <td>20VV1F0003</td>\n",
       "      <td>Kanakam Akanksha</td>\n",
       "      <td>22</td>\n",
       "      <td>94.8</td>\n",
       "      <td>72</td>\n",
       "      <td>0</td>\n",
       "      <td>0</td>\n",
       "      <td>healthy</td>\n",
       "    </tr>\n",
       "    <tr>\n",
       "      <th>1</th>\n",
       "      <td>2</td>\n",
       "      <td>20VV1F0004</td>\n",
       "      <td>Kotla Bhavani Sankar</td>\n",
       "      <td>27</td>\n",
       "      <td>97.8</td>\n",
       "      <td>99</td>\n",
       "      <td>0</td>\n",
       "      <td>0</td>\n",
       "      <td>healthy</td>\n",
       "    </tr>\n",
       "    <tr>\n",
       "      <th>2</th>\n",
       "      <td>3</td>\n",
       "      <td>20VV1F0005</td>\n",
       "      <td>Kotturu  Saikumar</td>\n",
       "      <td>17</td>\n",
       "      <td>97.8</td>\n",
       "      <td>58</td>\n",
       "      <td>2</td>\n",
       "      <td>0</td>\n",
       "      <td>lowHR : Bradycardia, weight gain</td>\n",
       "    </tr>\n",
       "    <tr>\n",
       "      <th>3</th>\n",
       "      <td>4</td>\n",
       "      <td>20VV1F0006</td>\n",
       "      <td>Lavanya Manchipilli</td>\n",
       "      <td>26</td>\n",
       "      <td>98.2</td>\n",
       "      <td>188</td>\n",
       "      <td>1</td>\n",
       "      <td>0</td>\n",
       "      <td>highHR: Tachycardia, heart Attack</td>\n",
       "    </tr>\n",
       "    <tr>\n",
       "      <th>4</th>\n",
       "      <td>5</td>\n",
       "      <td>20VV1F0007</td>\n",
       "      <td>Leelasri Chitrothu</td>\n",
       "      <td>18</td>\n",
       "      <td>97.7</td>\n",
       "      <td>89</td>\n",
       "      <td>0</td>\n",
       "      <td>0</td>\n",
       "      <td>healthy</td>\n",
       "    </tr>\n",
       "    <tr>\n",
       "      <th>...</th>\n",
       "      <td>...</td>\n",
       "      <td>...</td>\n",
       "      <td>...</td>\n",
       "      <td>...</td>\n",
       "      <td>...</td>\n",
       "      <td>...</td>\n",
       "      <td>...</td>\n",
       "      <td>...</td>\n",
       "      <td>...</td>\n",
       "    </tr>\n",
       "    <tr>\n",
       "      <th>945</th>\n",
       "      <td>946</td>\n",
       "      <td>24</td>\n",
       "      <td>Sailaja Devireddy</td>\n",
       "      <td>30</td>\n",
       "      <td>97.8</td>\n",
       "      <td>58</td>\n",
       "      <td>2</td>\n",
       "      <td>0</td>\n",
       "      <td>lowHR : Bradycardia, weight gain</td>\n",
       "    </tr>\n",
       "    <tr>\n",
       "      <th>946</th>\n",
       "      <td>947</td>\n",
       "      <td>18331A05F8</td>\n",
       "      <td>Tirumalaraju Vijayarama Mohith Varma</td>\n",
       "      <td>19</td>\n",
       "      <td>98.2</td>\n",
       "      <td>88</td>\n",
       "      <td>0</td>\n",
       "      <td>0</td>\n",
       "      <td>healthy</td>\n",
       "    </tr>\n",
       "    <tr>\n",
       "      <th>947</th>\n",
       "      <td>948</td>\n",
       "      <td>196D5A0206</td>\n",
       "      <td>Kilani Gnaneswari</td>\n",
       "      <td>20</td>\n",
       "      <td>97.7</td>\n",
       "      <td>89</td>\n",
       "      <td>0</td>\n",
       "      <td>0</td>\n",
       "      <td>healthy</td>\n",
       "    </tr>\n",
       "    <tr>\n",
       "      <th>948</th>\n",
       "      <td>949</td>\n",
       "      <td>18X91A0454</td>\n",
       "      <td>Revu .Meghana</td>\n",
       "      <td>26</td>\n",
       "      <td>78.4</td>\n",
       "      <td>73</td>\n",
       "      <td>0</td>\n",
       "      <td>2</td>\n",
       "      <td>lowSP : Anemia,Asthma,Emphysema,chronic obstru...</td>\n",
       "    </tr>\n",
       "    <tr>\n",
       "      <th>949</th>\n",
       "      <td>950</td>\n",
       "      <td>19X95A0405</td>\n",
       "      <td>Somala Bhavani</td>\n",
       "      <td>32</td>\n",
       "      <td>97.3</td>\n",
       "      <td>87</td>\n",
       "      <td>0</td>\n",
       "      <td>0</td>\n",
       "      <td>healthy</td>\n",
       "    </tr>\n",
       "  </tbody>\n",
       "</table>\n",
       "<p>950 rows × 9 columns</p>\n",
       "</div>"
      ],
      "text/plain": [
       "     SlNo  RollNumber                           StudenNamet  Age  Spo2(%)  \\\n",
       "0       1  20VV1F0003                      Kanakam Akanksha   22     94.8   \n",
       "1       2  20VV1F0004                  Kotla Bhavani Sankar   27     97.8   \n",
       "2       3  20VV1F0005                     Kotturu  Saikumar   17     97.8   \n",
       "3       4  20VV1F0006                   Lavanya Manchipilli   26     98.2   \n",
       "4       5  20VV1F0007                    Leelasri Chitrothu   18     97.7   \n",
       "..    ...         ...                                   ...  ...      ...   \n",
       "945   946          24                     Sailaja Devireddy   30     97.8   \n",
       "946   947  18331A05F8  Tirumalaraju Vijayarama Mohith Varma   19     98.2   \n",
       "947   948  196D5A0206                     Kilani Gnaneswari   20     97.7   \n",
       "948   949  18X91A0454                         Revu .Meghana   26     78.4   \n",
       "949   950  19X95A0405                        Somala Bhavani   32     97.3   \n",
       "\n",
       "     BPM  harerate(60-100)  Spo2(88-98%)  \\\n",
       "0     72                 0             0   \n",
       "1     99                 0             0   \n",
       "2     58                 2             0   \n",
       "3    188                 1             0   \n",
       "4     89                 0             0   \n",
       "..   ...               ...           ...   \n",
       "945   58                 2             0   \n",
       "946   88                 0             0   \n",
       "947   89                 0             0   \n",
       "948   73                 0             2   \n",
       "949   87                 0             0   \n",
       "\n",
       "                                             condition  \n",
       "0                                              healthy  \n",
       "1                                              healthy  \n",
       "2                     lowHR : Bradycardia, weight gain  \n",
       "3                    highHR: Tachycardia, heart Attack  \n",
       "4                                              healthy  \n",
       "..                                                 ...  \n",
       "945                   lowHR : Bradycardia, weight gain  \n",
       "946                                            healthy  \n",
       "947                                            healthy  \n",
       "948  lowSP : Anemia,Asthma,Emphysema,chronic obstru...  \n",
       "949                                            healthy  \n",
       "\n",
       "[950 rows x 9 columns]"
      ]
     },
     "execution_count": 15,
     "metadata": {},
     "output_type": "execute_result"
    }
   ],
   "source": [
    "df"
   ]
  },
  {
   "cell_type": "code",
   "execution_count": 16,
   "id": "86bbc790",
   "metadata": {},
   "outputs": [
    {
     "data": {
      "text/plain": [
       "array(['Normal', 'high', 'low'], dtype=object)"
      ]
     },
     "execution_count": 16,
     "metadata": {},
     "output_type": "execute_result"
    }
   ],
   "source": [
    "le.classes_"
   ]
  },
  {
   "cell_type": "code",
   "execution_count": 17,
   "id": "27e1b887",
   "metadata": {},
   "outputs": [],
   "source": [
    "X = df[['Spo2(%)','BPM']]\n",
    "Y = df['condition']"
   ]
  },
  {
   "cell_type": "code",
   "execution_count": 18,
   "id": "177e3b56",
   "metadata": {},
   "outputs": [
    {
     "data": {
      "text/html": [
       "<div>\n",
       "<style scoped>\n",
       "    .dataframe tbody tr th:only-of-type {\n",
       "        vertical-align: middle;\n",
       "    }\n",
       "\n",
       "    .dataframe tbody tr th {\n",
       "        vertical-align: top;\n",
       "    }\n",
       "\n",
       "    .dataframe thead th {\n",
       "        text-align: right;\n",
       "    }\n",
       "</style>\n",
       "<table border=\"1\" class=\"dataframe\">\n",
       "  <thead>\n",
       "    <tr style=\"text-align: right;\">\n",
       "      <th></th>\n",
       "      <th>Spo2(%)</th>\n",
       "      <th>BPM</th>\n",
       "    </tr>\n",
       "  </thead>\n",
       "  <tbody>\n",
       "    <tr>\n",
       "      <th>0</th>\n",
       "      <td>94.8</td>\n",
       "      <td>72</td>\n",
       "    </tr>\n",
       "    <tr>\n",
       "      <th>1</th>\n",
       "      <td>97.8</td>\n",
       "      <td>99</td>\n",
       "    </tr>\n",
       "    <tr>\n",
       "      <th>2</th>\n",
       "      <td>97.8</td>\n",
       "      <td>58</td>\n",
       "    </tr>\n",
       "    <tr>\n",
       "      <th>3</th>\n",
       "      <td>98.2</td>\n",
       "      <td>188</td>\n",
       "    </tr>\n",
       "    <tr>\n",
       "      <th>4</th>\n",
       "      <td>97.7</td>\n",
       "      <td>89</td>\n",
       "    </tr>\n",
       "    <tr>\n",
       "      <th>...</th>\n",
       "      <td>...</td>\n",
       "      <td>...</td>\n",
       "    </tr>\n",
       "    <tr>\n",
       "      <th>945</th>\n",
       "      <td>97.8</td>\n",
       "      <td>58</td>\n",
       "    </tr>\n",
       "    <tr>\n",
       "      <th>946</th>\n",
       "      <td>98.2</td>\n",
       "      <td>88</td>\n",
       "    </tr>\n",
       "    <tr>\n",
       "      <th>947</th>\n",
       "      <td>97.7</td>\n",
       "      <td>89</td>\n",
       "    </tr>\n",
       "    <tr>\n",
       "      <th>948</th>\n",
       "      <td>78.4</td>\n",
       "      <td>73</td>\n",
       "    </tr>\n",
       "    <tr>\n",
       "      <th>949</th>\n",
       "      <td>97.3</td>\n",
       "      <td>87</td>\n",
       "    </tr>\n",
       "  </tbody>\n",
       "</table>\n",
       "<p>950 rows × 2 columns</p>\n",
       "</div>"
      ],
      "text/plain": [
       "     Spo2(%)  BPM\n",
       "0       94.8   72\n",
       "1       97.8   99\n",
       "2       97.8   58\n",
       "3       98.2  188\n",
       "4       97.7   89\n",
       "..       ...  ...\n",
       "945     97.8   58\n",
       "946     98.2   88\n",
       "947     97.7   89\n",
       "948     78.4   73\n",
       "949     97.3   87\n",
       "\n",
       "[950 rows x 2 columns]"
      ]
     },
     "execution_count": 18,
     "metadata": {},
     "output_type": "execute_result"
    }
   ],
   "source": [
    "X"
   ]
  },
  {
   "cell_type": "code",
   "execution_count": 19,
   "id": "ec0d1162",
   "metadata": {},
   "outputs": [
    {
     "data": {
      "text/plain": [
       "0                                                healthy\n",
       "1                                                healthy\n",
       "2                       lowHR : Bradycardia, weight gain\n",
       "3                      highHR: Tachycardia, heart Attack\n",
       "4                                                healthy\n",
       "                             ...                        \n",
       "945                     lowHR : Bradycardia, weight gain\n",
       "946                                              healthy\n",
       "947                                              healthy\n",
       "948    lowSP : Anemia,Asthma,Emphysema,chronic obstru...\n",
       "949                                              healthy\n",
       "Name: condition, Length: 950, dtype: object"
      ]
     },
     "execution_count": 19,
     "metadata": {},
     "output_type": "execute_result"
    }
   ],
   "source": [
    "Y"
   ]
  },
  {
   "cell_type": "code",
   "execution_count": 20,
   "id": "2d881ae4",
   "metadata": {},
   "outputs": [],
   "source": [
    "from sklearn.model_selection import train_test_split"
   ]
  },
  {
   "cell_type": "code",
   "execution_count": 21,
   "id": "1a404a31",
   "metadata": {},
   "outputs": [],
   "source": [
    "x_train, x_test, y_train, y_test = train_test_split(X,Y,test_size=0.25,random_state=55)"
   ]
  },
  {
   "cell_type": "markdown",
   "id": "6512531a",
   "metadata": {},
   "source": [
    "#### KNN classifier"
   ]
  },
  {
   "cell_type": "code",
   "execution_count": 22,
   "id": "6f95e23d",
   "metadata": {},
   "outputs": [],
   "source": [
    "from sklearn.neighbors import KNeighborsClassifier\n"
   ]
  },
  {
   "cell_type": "code",
   "execution_count": 23,
   "id": "195039e8",
   "metadata": {},
   "outputs": [],
   "source": [
    "knn = KNeighborsClassifier(n_neighbors=3)"
   ]
  },
  {
   "cell_type": "code",
   "execution_count": 24,
   "id": "80b8f0df",
   "metadata": {},
   "outputs": [
    {
     "data": {
      "text/html": [
       "<style>#sk-container-id-1 {color: black;background-color: white;}#sk-container-id-1 pre{padding: 0;}#sk-container-id-1 div.sk-toggleable {background-color: white;}#sk-container-id-1 label.sk-toggleable__label {cursor: pointer;display: block;width: 100%;margin-bottom: 0;padding: 0.3em;box-sizing: border-box;text-align: center;}#sk-container-id-1 label.sk-toggleable__label-arrow:before {content: \"▸\";float: left;margin-right: 0.25em;color: #696969;}#sk-container-id-1 label.sk-toggleable__label-arrow:hover:before {color: black;}#sk-container-id-1 div.sk-estimator:hover label.sk-toggleable__label-arrow:before {color: black;}#sk-container-id-1 div.sk-toggleable__content {max-height: 0;max-width: 0;overflow: hidden;text-align: left;background-color: #f0f8ff;}#sk-container-id-1 div.sk-toggleable__content pre {margin: 0.2em;color: black;border-radius: 0.25em;background-color: #f0f8ff;}#sk-container-id-1 input.sk-toggleable__control:checked~div.sk-toggleable__content {max-height: 200px;max-width: 100%;overflow: auto;}#sk-container-id-1 input.sk-toggleable__control:checked~label.sk-toggleable__label-arrow:before {content: \"▾\";}#sk-container-id-1 div.sk-estimator input.sk-toggleable__control:checked~label.sk-toggleable__label {background-color: #d4ebff;}#sk-container-id-1 div.sk-label input.sk-toggleable__control:checked~label.sk-toggleable__label {background-color: #d4ebff;}#sk-container-id-1 input.sk-hidden--visually {border: 0;clip: rect(1px 1px 1px 1px);clip: rect(1px, 1px, 1px, 1px);height: 1px;margin: -1px;overflow: hidden;padding: 0;position: absolute;width: 1px;}#sk-container-id-1 div.sk-estimator {font-family: monospace;background-color: #f0f8ff;border: 1px dotted black;border-radius: 0.25em;box-sizing: border-box;margin-bottom: 0.5em;}#sk-container-id-1 div.sk-estimator:hover {background-color: #d4ebff;}#sk-container-id-1 div.sk-parallel-item::after {content: \"\";width: 100%;border-bottom: 1px solid gray;flex-grow: 1;}#sk-container-id-1 div.sk-label:hover label.sk-toggleable__label {background-color: #d4ebff;}#sk-container-id-1 div.sk-serial::before {content: \"\";position: absolute;border-left: 1px solid gray;box-sizing: border-box;top: 0;bottom: 0;left: 50%;z-index: 0;}#sk-container-id-1 div.sk-serial {display: flex;flex-direction: column;align-items: center;background-color: white;padding-right: 0.2em;padding-left: 0.2em;position: relative;}#sk-container-id-1 div.sk-item {position: relative;z-index: 1;}#sk-container-id-1 div.sk-parallel {display: flex;align-items: stretch;justify-content: center;background-color: white;position: relative;}#sk-container-id-1 div.sk-item::before, #sk-container-id-1 div.sk-parallel-item::before {content: \"\";position: absolute;border-left: 1px solid gray;box-sizing: border-box;top: 0;bottom: 0;left: 50%;z-index: -1;}#sk-container-id-1 div.sk-parallel-item {display: flex;flex-direction: column;z-index: 1;position: relative;background-color: white;}#sk-container-id-1 div.sk-parallel-item:first-child::after {align-self: flex-end;width: 50%;}#sk-container-id-1 div.sk-parallel-item:last-child::after {align-self: flex-start;width: 50%;}#sk-container-id-1 div.sk-parallel-item:only-child::after {width: 0;}#sk-container-id-1 div.sk-dashed-wrapped {border: 1px dashed gray;margin: 0 0.4em 0.5em 0.4em;box-sizing: border-box;padding-bottom: 0.4em;background-color: white;}#sk-container-id-1 div.sk-label label {font-family: monospace;font-weight: bold;display: inline-block;line-height: 1.2em;}#sk-container-id-1 div.sk-label-container {text-align: center;}#sk-container-id-1 div.sk-container {/* jupyter's `normalize.less` sets `[hidden] { display: none; }` but bootstrap.min.css set `[hidden] { display: none !important; }` so we also need the `!important` here to be able to override the default hidden behavior on the sphinx rendered scikit-learn.org. See: https://github.com/scikit-learn/scikit-learn/issues/21755 */display: inline-block !important;position: relative;}#sk-container-id-1 div.sk-text-repr-fallback {display: none;}</style><div id=\"sk-container-id-1\" class=\"sk-top-container\"><div class=\"sk-text-repr-fallback\"><pre>KNeighborsClassifier(n_neighbors=3)</pre><b>In a Jupyter environment, please rerun this cell to show the HTML representation or trust the notebook. <br />On GitHub, the HTML representation is unable to render, please try loading this page with nbviewer.org.</b></div><div class=\"sk-container\" hidden><div class=\"sk-item\"><div class=\"sk-estimator sk-toggleable\"><input class=\"sk-toggleable__control sk-hidden--visually\" id=\"sk-estimator-id-1\" type=\"checkbox\" checked><label for=\"sk-estimator-id-1\" class=\"sk-toggleable__label sk-toggleable__label-arrow\">KNeighborsClassifier</label><div class=\"sk-toggleable__content\"><pre>KNeighborsClassifier(n_neighbors=3)</pre></div></div></div></div></div>"
      ],
      "text/plain": [
       "KNeighborsClassifier(n_neighbors=3)"
      ]
     },
     "execution_count": 24,
     "metadata": {},
     "output_type": "execute_result"
    }
   ],
   "source": [
    "knn.fit(x_train, y_train)"
   ]
  },
  {
   "cell_type": "code",
   "execution_count": 59,
   "id": "5a10d602",
   "metadata": {},
   "outputs": [
    {
     "data": {
      "text/plain": [
       "array(['healthy', 'healthy', 'healthy',\n",
       "       'highSP: Oxygen taxicity, cough, breathing trouble', 'healthy',\n",
       "       'causion : Tachycardia, heart Attack, Oxygen taxicity, cough, \\nbreathing trouble.',\n",
       "       'healthy', 'healthy', 'healthy', 'healthy',\n",
       "       'highSP: Oxygen taxicity, cough, breathing trouble', 'healthy',\n",
       "       'healthy', 'highSP: Oxygen taxicity, cough, breathing trouble',\n",
       "       'healthy',\n",
       "       'lowSP : Anemia,Asthma,Emphysema,chronic obstructiv\\ne pulmonary desiese',\n",
       "       'healthy', 'lowHR : Bradycardia, weight gain', 'healthy',\n",
       "       'healthy', 'highHR: Tachycardia, heart Attack', 'healthy',\n",
       "       'healthy',\n",
       "       'causion : Tachycardia, heart Attack, Oxygen taxicity, cough, \\nbreathing trouble.',\n",
       "       'healthy',\n",
       "       'danger : Bradycardia, weight gain, Anemia,Asthma,Emphysema,chronic obstructiv\\ne pulmonary desiese',\n",
       "       'healthy', 'healthy', 'healthy', 'healthy',\n",
       "       'highSP: Oxygen taxicity, cough, breathing trouble', 'healthy',\n",
       "       'healthy', 'healthy',\n",
       "       'danger : Bradycardia, weight gain, Anemia,Asthma,Emphysema,chronic obstructiv\\ne pulmonary desiese',\n",
       "       'healthy', 'highSP: Oxygen taxicity, cough, breathing trouble',\n",
       "       'highHR: Tachycardia, heart Attack', 'healthy',\n",
       "       'causion : Tachycardia, heart Attack, Oxygen taxicity, cough, \\nbreathing trouble.',\n",
       "       'healthy', 'lowHR : Bradycardia, weight gain',\n",
       "       'lowHR : Bradycardia, weight gain', 'healthy',\n",
       "       'lowSP : Anemia,Asthma,Emphysema,chronic obstructiv\\ne pulmonary desiese',\n",
       "       'highSP: Oxygen taxicity, cough, breathing trouble',\n",
       "       'lowSP : Anemia,Asthma,Emphysema,chronic obstructiv\\ne pulmonary desiese',\n",
       "       'highSP: Oxygen taxicity, cough, breathing trouble',\n",
       "       'lowSP : Anemia,Asthma,Emphysema,chronic obstructiv\\ne pulmonary desiese',\n",
       "       'healthy',\n",
       "       'lowSP : Anemia,Asthma,Emphysema,chronic obstructiv\\ne pulmonary desiese',\n",
       "       'lowSP : Anemia,Asthma,Emphysema,chronic obstructiv\\ne pulmonary desiese',\n",
       "       'healthy', 'lowHR : Bradycardia, weight gain', 'healthy',\n",
       "       'danger : Bradycardia, weight gain, Anemia,Asthma,Emphysema,chronic obstructiv\\ne pulmonary desiese',\n",
       "       'highHR: Tachycardia, heart Attack', 'healthy',\n",
       "       'lowHR : Bradycardia, weight gain', 'healthy', 'healthy',\n",
       "       'healthy',\n",
       "       'danger : Bradycardia, weight gain, Anemia,Asthma,Emphysema,chronic obstructiv\\ne pulmonary desiese',\n",
       "       'lowHR : Bradycardia, weight gain', 'healthy', 'healthy',\n",
       "       'healthy',\n",
       "       'causion : Tachycardia, heart Attack, Oxygen taxicity, cough, \\nbreathing trouble.',\n",
       "       'healthy', 'healthy', 'healthy', 'healthy',\n",
       "       'lowSP : Anemia,Asthma,Emphysema,chronic obstructiv\\ne pulmonary desiese',\n",
       "       'healthy',\n",
       "       'lowSP : Anemia,Asthma,Emphysema,chronic obstructiv\\ne pulmonary desiese',\n",
       "       'lowSP : Anemia,Asthma,Emphysema,chronic obstructiv\\ne pulmonary desiese',\n",
       "       'lowSP : Anemia,Asthma,Emphysema,chronic obstructiv\\ne pulmonary desiese',\n",
       "       'healthy',\n",
       "       'danger : Bradycardia, weight gain, Anemia,Asthma,Emphysema,chronic obstructiv\\ne pulmonary desiese',\n",
       "       'lowHR : Bradycardia, weight gain', 'healthy', 'healthy',\n",
       "       'lowSP : Anemia,Asthma,Emphysema,chronic obstructiv\\ne pulmonary desiese',\n",
       "       'lowSP : Anemia,Asthma,Emphysema,chronic obstructiv\\ne pulmonary desiese',\n",
       "       'healthy', 'healthy', 'healthy', 'healthy',\n",
       "       'lowSP : Anemia,Asthma,Emphysema,chronic obstructiv\\ne pulmonary desiese',\n",
       "       'lowSP : Anemia,Asthma,Emphysema,chronic obstructiv\\ne pulmonary desiese',\n",
       "       'healthy', 'healthy', 'healthy', 'healthy', 'healthy', 'healthy',\n",
       "       'lowSP : Anemia,Asthma,Emphysema,chronic obstructiv\\ne pulmonary desiese',\n",
       "       'healthy',\n",
       "       'lowSP : Anemia,Asthma,Emphysema,chronic obstructiv\\ne pulmonary desiese',\n",
       "       'healthy', 'healthy', 'healthy', 'healthy',\n",
       "       'highSP: Oxygen taxicity, cough, breathing trouble', 'healthy',\n",
       "       'healthy',\n",
       "       'lowSP : Anemia,Asthma,Emphysema,chronic obstructiv\\ne pulmonary desiese',\n",
       "       'causion : Tachycardia, heart Attack, Oxygen taxicity, cough, \\nbreathing trouble.',\n",
       "       'healthy', 'healthy', 'healthy', 'healthy', 'healthy', 'healthy',\n",
       "       'danger : Bradycardia, weight gain, Anemia,Asthma,Emphysema,chronic obstructiv\\ne pulmonary desiese',\n",
       "       'lowHR : Bradycardia, weight gain',\n",
       "       'highSP: Oxygen taxicity, cough, breathing trouble',\n",
       "       'danger : Bradycardia, weight gain, Anemia,Asthma,Emphysema,chronic obstructiv\\ne pulmonary desiese',\n",
       "       'healthy', 'healthy',\n",
       "       'causion : Tachycardia, heart Attack, Oxygen taxicity, cough, \\nbreathing trouble.',\n",
       "       'healthy',\n",
       "       'lowSP : Anemia,Asthma,Emphysema,chronic obstructiv\\ne pulmonary desiese',\n",
       "       'healthy', 'healthy', 'healthy', 'healthy', 'healthy',\n",
       "       'lowSP : Anemia,Asthma,Emphysema,chronic obstructiv\\ne pulmonary desiese',\n",
       "       'highSP: Oxygen taxicity, cough, breathing trouble',\n",
       "       'lowSP : Anemia,Asthma,Emphysema,chronic obstructiv\\ne pulmonary desiese',\n",
       "       'causion : Tachycardia, heart Attack, Oxygen taxicity, cough, \\nbreathing trouble.',\n",
       "       'healthy', 'healthy', 'healthy',\n",
       "       'lowHR : Bradycardia, weight gain', 'healthy', 'healthy',\n",
       "       'healthy',\n",
       "       'lowSP : Anemia,Asthma,Emphysema,chronic obstructiv\\ne pulmonary desiese',\n",
       "       'healthy', 'healthy', 'healthy', 'healthy', 'healthy', 'healthy',\n",
       "       'causion : Tachycardia, heart Attack, Oxygen taxicity, cough, \\nbreathing trouble.',\n",
       "       'causion : Tachycardia, heart Attack, Oxygen taxicity, cough, \\nbreathing trouble.',\n",
       "       'healthy', 'healthy',\n",
       "       'danger : Bradycardia, weight gain, Anemia,Asthma,Emphysema,chronic obstructiv\\ne pulmonary desiese',\n",
       "       'healthy', 'healthy', 'healthy',\n",
       "       'danger : Bradycardia, weight gain, Anemia,Asthma,Emphysema,chronic obstructiv\\ne pulmonary desiese',\n",
       "       'danger : Bradycardia, weight gain, Anemia,Asthma,Emphysema,chronic obstructiv\\ne pulmonary desiese',\n",
       "       'healthy',\n",
       "       'causion : Tachycardia, heart Attack, Oxygen taxicity, cough, \\nbreathing trouble.',\n",
       "       'healthy', 'healthy', 'highHR: Tachycardia, heart Attack',\n",
       "       'healthy', 'healthy',\n",
       "       'lowSP : Anemia,Asthma,Emphysema,chronic obstructiv\\ne pulmonary desiese',\n",
       "       'healthy', 'healthy',\n",
       "       'highSP: Oxygen taxicity, cough, breathing trouble', 'healthy',\n",
       "       'lowSP : Anemia,Asthma,Emphysema,chronic obstructiv\\ne pulmonary desiese',\n",
       "       'danger : Bradycardia, weight gain, Anemia,Asthma,Emphysema,chronic obstructiv\\ne pulmonary desiese',\n",
       "       'highHR: Tachycardia, heart Attack', 'healthy', 'healthy',\n",
       "       'healthy', 'healthy',\n",
       "       'causion : Tachycardia, heart Attack, Oxygen taxicity, cough, \\nbreathing trouble.',\n",
       "       'healthy', 'healthy', 'lowHR : Bradycardia, weight gain',\n",
       "       'healthy', 'healthy', 'healthy',\n",
       "       'danger : Bradycardia, weight gain, Anemia,Asthma,Emphysema,chronic obstructiv\\ne pulmonary desiese',\n",
       "       'healthy', 'healthy', 'healthy',\n",
       "       'danger : Bradycardia, weight gain, Anemia,Asthma,Emphysema,chronic obstructiv\\ne pulmonary desiese',\n",
       "       'healthy', 'lowHR : Bradycardia, weight gain',\n",
       "       'lowHR : Bradycardia, weight gain',\n",
       "       'highHR: Tachycardia, heart Attack', 'healthy', 'healthy',\n",
       "       'healthy', 'healthy', 'healthy', 'healthy',\n",
       "       'highSP: Oxygen taxicity, cough, breathing trouble',\n",
       "       'lowSP : Anemia,Asthma,Emphysema,chronic obstructiv\\ne pulmonary desiese',\n",
       "       'healthy', 'healthy',\n",
       "       'danger : Bradycardia, weight gain, Anemia,Asthma,Emphysema,chronic obstructiv\\ne pulmonary desiese',\n",
       "       'healthy', 'highHR: Tachycardia, heart Attack', 'healthy',\n",
       "       'healthy', 'healthy', 'healthy', 'healthy',\n",
       "       'highHR: Tachycardia, heart Attack',\n",
       "       'lowHR : Bradycardia, weight gain',\n",
       "       'highSP: Oxygen taxicity, cough, breathing trouble',\n",
       "       'highHR: Tachycardia, heart Attack', 'healthy', 'healthy',\n",
       "       'lowSP : Anemia,Asthma,Emphysema,chronic obstructiv\\ne pulmonary desiese',\n",
       "       'danger : Bradycardia, weight gain, Anemia,Asthma,Emphysema,chronic obstructiv\\ne pulmonary desiese',\n",
       "       'healthy', 'healthy', 'healthy',\n",
       "       'danger : Bradycardia, weight gain, Anemia,Asthma,Emphysema,chronic obstructiv\\ne pulmonary desiese',\n",
       "       'healthy',\n",
       "       'causion : Tachycardia, heart Attack, Oxygen taxicity, cough, \\nbreathing trouble.',\n",
       "       'healthy',\n",
       "       'causion : Tachycardia, heart Attack, Oxygen taxicity, cough, \\nbreathing trouble.',\n",
       "       'healthy',\n",
       "       'lowSP : Anemia,Asthma,Emphysema,chronic obstructiv\\ne pulmonary desiese',\n",
       "       'healthy', 'healthy',\n",
       "       'causion : Tachycardia, heart Attack, Oxygen taxicity, cough, \\nbreathing trouble.',\n",
       "       'lowSP : Anemia,Asthma,Emphysema,chronic obstructiv\\ne pulmonary desiese',\n",
       "       'healthy',\n",
       "       'lowSP : Anemia,Asthma,Emphysema,chronic obstructiv\\ne pulmonary desiese',\n",
       "       'healthy', 'healthy', 'lowHR : Bradycardia, weight gain',\n",
       "       'healthy', 'healthy'], dtype=object)"
      ]
     },
     "execution_count": 59,
     "metadata": {},
     "output_type": "execute_result"
    }
   ],
   "source": [
    "y2_predict1 = knn.predict(x_test)\n",
    "y2_predict1"
   ]
  },
  {
   "cell_type": "code",
   "execution_count": null,
   "id": "c6ede46b",
   "metadata": {},
   "outputs": [],
   "source": [
    "from sklearn.metrics import confusion_matrix, accuracy_score\n"
   ]
  },
  {
   "cell_type": "code",
   "execution_count": 26,
   "id": "3785de44",
   "metadata": {
    "scrolled": true
   },
   "outputs": [
    {
     "data": {
      "text/html": [
       "<div>\n",
       "<style scoped>\n",
       "    .dataframe tbody tr th:only-of-type {\n",
       "        vertical-align: middle;\n",
       "    }\n",
       "\n",
       "    .dataframe tbody tr th {\n",
       "        vertical-align: top;\n",
       "    }\n",
       "\n",
       "    .dataframe thead th {\n",
       "        text-align: right;\n",
       "    }\n",
       "</style>\n",
       "<table border=\"1\" class=\"dataframe\">\n",
       "  <thead>\n",
       "    <tr style=\"text-align: right;\">\n",
       "      <th></th>\n",
       "      <th>Spo2(%)</th>\n",
       "      <th>BPM</th>\n",
       "    </tr>\n",
       "  </thead>\n",
       "  <tbody>\n",
       "    <tr>\n",
       "      <th>439</th>\n",
       "      <td>94.8</td>\n",
       "      <td>72</td>\n",
       "    </tr>\n",
       "    <tr>\n",
       "      <th>294</th>\n",
       "      <td>97.8</td>\n",
       "      <td>99</td>\n",
       "    </tr>\n",
       "  </tbody>\n",
       "</table>\n",
       "</div>"
      ],
      "text/plain": [
       "     Spo2(%)  BPM\n",
       "439     94.8   72\n",
       "294     97.8   99"
      ]
     },
     "execution_count": 26,
     "metadata": {},
     "output_type": "execute_result"
    }
   ],
   "source": [
    "x_test.head(2)"
   ]
  },
  {
   "cell_type": "code",
   "execution_count": 27,
   "id": "dba11a8e",
   "metadata": {},
   "outputs": [
    {
     "name": "stderr",
     "output_type": "stream",
     "text": [
      "C:\\Users\\stars\\anaconda3\\lib\\site-packages\\sklearn\\base.py:450: UserWarning: X does not have valid feature names, but KNeighborsClassifier was fitted with feature names\n",
      "  warnings.warn(\n"
     ]
    },
    {
     "data": {
      "text/plain": [
       "array(['highHR: Tachycardia, heart Attack'], dtype=object)"
      ]
     },
     "execution_count": 27,
     "metadata": {},
     "output_type": "execute_result"
    }
   ],
   "source": [
    "knn.predict([[a,b]])"
   ]
  },
  {
   "cell_type": "markdown",
   "id": "ae1e54d8",
   "metadata": {},
   "source": [
    "#### naivy_bayes\n",
    "- wp"
   ]
  },
  {
   "cell_type": "code",
   "execution_count": 28,
   "id": "4f835eef",
   "metadata": {},
   "outputs": [],
   "source": [
    "from sklearn.naive_bayes import GaussianNB\n",
    "gnb = GaussianNB()"
   ]
  },
  {
   "cell_type": "code",
   "execution_count": 29,
   "id": "ebbc4ed0",
   "metadata": {},
   "outputs": [
    {
     "data": {
      "text/html": [
       "<style>#sk-container-id-2 {color: black;background-color: white;}#sk-container-id-2 pre{padding: 0;}#sk-container-id-2 div.sk-toggleable {background-color: white;}#sk-container-id-2 label.sk-toggleable__label {cursor: pointer;display: block;width: 100%;margin-bottom: 0;padding: 0.3em;box-sizing: border-box;text-align: center;}#sk-container-id-2 label.sk-toggleable__label-arrow:before {content: \"▸\";float: left;margin-right: 0.25em;color: #696969;}#sk-container-id-2 label.sk-toggleable__label-arrow:hover:before {color: black;}#sk-container-id-2 div.sk-estimator:hover label.sk-toggleable__label-arrow:before {color: black;}#sk-container-id-2 div.sk-toggleable__content {max-height: 0;max-width: 0;overflow: hidden;text-align: left;background-color: #f0f8ff;}#sk-container-id-2 div.sk-toggleable__content pre {margin: 0.2em;color: black;border-radius: 0.25em;background-color: #f0f8ff;}#sk-container-id-2 input.sk-toggleable__control:checked~div.sk-toggleable__content {max-height: 200px;max-width: 100%;overflow: auto;}#sk-container-id-2 input.sk-toggleable__control:checked~label.sk-toggleable__label-arrow:before {content: \"▾\";}#sk-container-id-2 div.sk-estimator input.sk-toggleable__control:checked~label.sk-toggleable__label {background-color: #d4ebff;}#sk-container-id-2 div.sk-label input.sk-toggleable__control:checked~label.sk-toggleable__label {background-color: #d4ebff;}#sk-container-id-2 input.sk-hidden--visually {border: 0;clip: rect(1px 1px 1px 1px);clip: rect(1px, 1px, 1px, 1px);height: 1px;margin: -1px;overflow: hidden;padding: 0;position: absolute;width: 1px;}#sk-container-id-2 div.sk-estimator {font-family: monospace;background-color: #f0f8ff;border: 1px dotted black;border-radius: 0.25em;box-sizing: border-box;margin-bottom: 0.5em;}#sk-container-id-2 div.sk-estimator:hover {background-color: #d4ebff;}#sk-container-id-2 div.sk-parallel-item::after {content: \"\";width: 100%;border-bottom: 1px solid gray;flex-grow: 1;}#sk-container-id-2 div.sk-label:hover label.sk-toggleable__label {background-color: #d4ebff;}#sk-container-id-2 div.sk-serial::before {content: \"\";position: absolute;border-left: 1px solid gray;box-sizing: border-box;top: 0;bottom: 0;left: 50%;z-index: 0;}#sk-container-id-2 div.sk-serial {display: flex;flex-direction: column;align-items: center;background-color: white;padding-right: 0.2em;padding-left: 0.2em;position: relative;}#sk-container-id-2 div.sk-item {position: relative;z-index: 1;}#sk-container-id-2 div.sk-parallel {display: flex;align-items: stretch;justify-content: center;background-color: white;position: relative;}#sk-container-id-2 div.sk-item::before, #sk-container-id-2 div.sk-parallel-item::before {content: \"\";position: absolute;border-left: 1px solid gray;box-sizing: border-box;top: 0;bottom: 0;left: 50%;z-index: -1;}#sk-container-id-2 div.sk-parallel-item {display: flex;flex-direction: column;z-index: 1;position: relative;background-color: white;}#sk-container-id-2 div.sk-parallel-item:first-child::after {align-self: flex-end;width: 50%;}#sk-container-id-2 div.sk-parallel-item:last-child::after {align-self: flex-start;width: 50%;}#sk-container-id-2 div.sk-parallel-item:only-child::after {width: 0;}#sk-container-id-2 div.sk-dashed-wrapped {border: 1px dashed gray;margin: 0 0.4em 0.5em 0.4em;box-sizing: border-box;padding-bottom: 0.4em;background-color: white;}#sk-container-id-2 div.sk-label label {font-family: monospace;font-weight: bold;display: inline-block;line-height: 1.2em;}#sk-container-id-2 div.sk-label-container {text-align: center;}#sk-container-id-2 div.sk-container {/* jupyter's `normalize.less` sets `[hidden] { display: none; }` but bootstrap.min.css set `[hidden] { display: none !important; }` so we also need the `!important` here to be able to override the default hidden behavior on the sphinx rendered scikit-learn.org. See: https://github.com/scikit-learn/scikit-learn/issues/21755 */display: inline-block !important;position: relative;}#sk-container-id-2 div.sk-text-repr-fallback {display: none;}</style><div id=\"sk-container-id-2\" class=\"sk-top-container\"><div class=\"sk-text-repr-fallback\"><pre>GaussianNB()</pre><b>In a Jupyter environment, please rerun this cell to show the HTML representation or trust the notebook. <br />On GitHub, the HTML representation is unable to render, please try loading this page with nbviewer.org.</b></div><div class=\"sk-container\" hidden><div class=\"sk-item\"><div class=\"sk-estimator sk-toggleable\"><input class=\"sk-toggleable__control sk-hidden--visually\" id=\"sk-estimator-id-2\" type=\"checkbox\" checked><label for=\"sk-estimator-id-2\" class=\"sk-toggleable__label sk-toggleable__label-arrow\">GaussianNB</label><div class=\"sk-toggleable__content\"><pre>GaussianNB()</pre></div></div></div></div></div>"
      ],
      "text/plain": [
       "GaussianNB()"
      ]
     },
     "execution_count": 29,
     "metadata": {},
     "output_type": "execute_result"
    }
   ],
   "source": [
    "gnb.fit(x_train,y_train)"
   ]
  },
  {
   "cell_type": "code",
   "execution_count": 30,
   "id": "ceff9af5",
   "metadata": {
    "collapsed": true
   },
   "outputs": [
    {
     "data": {
      "text/plain": [
       "array(['healthy', 'healthy', 'healthy',\n",
       "       'highSP: Oxygen taxicity, cough, breathing trouble', 'healthy',\n",
       "       'causion : Tachycardia, heart Attack, Oxygen taxicity, cough, \\nbreathing trouble.',\n",
       "       'healthy', 'healthy', 'healthy', 'healthy',\n",
       "       'highSP: Oxygen taxicity, cough, breathing trouble', 'healthy',\n",
       "       'healthy', 'highSP: Oxygen taxicity, cough, breathing trouble',\n",
       "       'healthy',\n",
       "       'lowSP : Anemia,Asthma,Emphysema,chronic obstructiv\\ne pulmonary desiese',\n",
       "       'healthy', 'lowHR : Bradycardia, weight gain', 'healthy',\n",
       "       'healthy', 'highHR: Tachycardia, heart Attack', 'healthy',\n",
       "       'healthy',\n",
       "       'causion : Tachycardia, heart Attack, Oxygen taxicity, cough, \\nbreathing trouble.',\n",
       "       'healthy',\n",
       "       'danger : Bradycardia, weight gain, Anemia,Asthma,Emphysema,chronic obstructiv\\ne pulmonary desiese',\n",
       "       'healthy', 'healthy', 'healthy', 'healthy',\n",
       "       'highSP: Oxygen taxicity, cough, breathing trouble', 'healthy',\n",
       "       'healthy', 'healthy',\n",
       "       'danger : Bradycardia, weight gain, Anemia,Asthma,Emphysema,chronic obstructiv\\ne pulmonary desiese',\n",
       "       'healthy', 'highSP: Oxygen taxicity, cough, breathing trouble',\n",
       "       'highHR: Tachycardia, heart Attack', 'healthy',\n",
       "       'causion : Tachycardia, heart Attack, Oxygen taxicity, cough, \\nbreathing trouble.',\n",
       "       'healthy', 'lowHR : Bradycardia, weight gain',\n",
       "       'lowHR : Bradycardia, weight gain', 'healthy',\n",
       "       'lowSP : Anemia,Asthma,Emphysema,chronic obstructiv\\ne pulmonary desiese',\n",
       "       'highSP: Oxygen taxicity, cough, breathing trouble',\n",
       "       'lowSP : Anemia,Asthma,Emphysema,chronic obstructiv\\ne pulmonary desiese',\n",
       "       'highSP: Oxygen taxicity, cough, breathing trouble',\n",
       "       'lowSPlowSP : Anemia,Asthma,Emphysema,chronic obstructiv\\ne pulmonary desiese',\n",
       "       'healthy',\n",
       "       'lowSP : Anemia,Asthma,Emphysema,chronic obstructiv\\ne pulmonary desiese',\n",
       "       'lowSPlowSP : Anemia,Asthma,Emphysema,chronic obstructiv\\ne pulmonary desiese',\n",
       "       'healthy', 'lowHR : Bradycardia, weight gain', 'healthy',\n",
       "       'danger : Bradycardia, weight gain, Anemia,Asthma,Emphysema,chronic obstructiv\\ne pulmonary desiese',\n",
       "       'highHR: Tachycardia, heart Attack', 'healthy',\n",
       "       'lowHR : Bradycardia, weight gain', 'healthy', 'healthy',\n",
       "       'healthy',\n",
       "       'danger : Bradycardia, weight gain, Anemia,Asthma,Emphysema,chronic obstructiv\\ne pulmonary desiese',\n",
       "       'lowHR : Bradycardia, weight gain', 'healthy', 'healthy',\n",
       "       'healthy',\n",
       "       'causion : Tachycardia, heart Attack, Oxygen taxicity, cough, \\nbreathing trouble.',\n",
       "       'healthy', 'healthy', 'healthy', 'healthy',\n",
       "       'lowSPlowSP : Anemia,Asthma,Emphysema,chronic obstructiv\\ne pulmonary desiese',\n",
       "       'healthy',\n",
       "       'lowSP : Anemia,Asthma,Emphysema,chronic obstructiv\\ne pulmonary desiese',\n",
       "       'lowSPlowSP : Anemia,Asthma,Emphysema,chronic obstructiv\\ne pulmonary desiese',\n",
       "       'lowSPlowSP : Anemia,Asthma,Emphysema,chronic obstructiv\\ne pulmonary desiese',\n",
       "       'healthy',\n",
       "       'danger : Bradycardia, weight gain, Anemia,Asthma,Emphysema,chronic obstructiv\\ne pulmonary desiese',\n",
       "       'lowHR : Bradycardia, weight gain', 'healthy', 'healthy',\n",
       "       'lowSPlowSP : Anemia,Asthma,Emphysema,chronic obstructiv\\ne pulmonary desiese',\n",
       "       'lowSPlowSP : Anemia,Asthma,Emphysema,chronic obstructiv\\ne pulmonary desiese',\n",
       "       'healthy', 'healthy', 'healthy', 'healthy',\n",
       "       'lowSPlowSP : Anemia,Asthma,Emphysema,chronic obstructiv\\ne pulmonary desiese',\n",
       "       'lowSP : Anemia,Asthma,Emphysema,chronic obstructiv\\ne pulmonary desiese',\n",
       "       'healthy', 'healthy', 'healthy', 'healthy', 'healthy', 'healthy',\n",
       "       'lowSPlowSP : Anemia,Asthma,Emphysema,chronic obstructiv\\ne pulmonary desiese',\n",
       "       'healthy',\n",
       "       'lowSPlowSP : Anemia,Asthma,Emphysema,chronic obstructiv\\ne pulmonary desiese',\n",
       "       'healthy', 'healthy', 'healthy', 'healthy',\n",
       "       'highSP: Oxygen taxicity, cough, breathing trouble', 'healthy',\n",
       "       'healthy',\n",
       "       'lowSP : Anemia,Asthma,Emphysema,chronic obstructiv\\ne pulmonary desiese',\n",
       "       'causion : Tachycardia, heart Attack, Oxygen taxicity, cough, \\nbreathing trouble.',\n",
       "       'healthy', 'healthy', 'healthy', 'healthy', 'healthy', 'healthy',\n",
       "       'danger : Bradycardia, weight gain, Anemia,Asthma,Emphysema,chronic obstructiv\\ne pulmonary desiese',\n",
       "       'lowHR : Bradycardia, weight gain',\n",
       "       'highSP: Oxygen taxicity, cough, breathing trouble',\n",
       "       'danger : Bradycardia, weight gain, Anemia,Asthma,Emphysema,chronic obstructiv\\ne pulmonary desiese',\n",
       "       'healthy', 'healthy',\n",
       "       'causion : Tachycardia, heart Attack, Oxygen taxicity, cough, \\nbreathing trouble.',\n",
       "       'healthy',\n",
       "       'lowSP : Anemia,Asthma,Emphysema,chronic obstructiv\\ne pulmonary desiese',\n",
       "       'healthy', 'healthy', 'healthy', 'healthy', 'healthy',\n",
       "       'lowSPlowSP : Anemia,Asthma,Emphysema,chronic obstructiv\\ne pulmonary desiese',\n",
       "       'highSP: Oxygen taxicity, cough, breathing trouble',\n",
       "       'lowSPlowSP : Anemia,Asthma,Emphysema,chronic obstructiv\\ne pulmonary desiese',\n",
       "       'causion : Tachycardia, heart Attack, Oxygen taxicity, cough, \\nbreathing trouble.',\n",
       "       'healthy', 'healthy', 'healthy',\n",
       "       'lowHR : Bradycardia, weight gain', 'healthy', 'healthy',\n",
       "       'healthy',\n",
       "       'lowSPlowSP : Anemia,Asthma,Emphysema,chronic obstructiv\\ne pulmonary desiese',\n",
       "       'healthy', 'healthy', 'healthy', 'healthy', 'healthy', 'healthy',\n",
       "       'causion : Tachycardia, heart Attack, Oxygen taxicity, cough, \\nbreathing trouble.',\n",
       "       'causion : Tachycardia, heart Attack, Oxygen taxicity, cough, \\nbreathing trouble.',\n",
       "       'healthy', 'healthy',\n",
       "       'danger : Bradycardia, weight gain, Anemia,Asthma,Emphysema,chronic obstructiv\\ne pulmonary desiese',\n",
       "       'healthy', 'healthy', 'healthy',\n",
       "       'danger : Bradycardia, weight gain, Anemia,Asthma,Emphysema,chronic obstructiv\\ne pulmonary desiese',\n",
       "       'danger : Bradycardia, weight gain, Anemia,Asthma,Emphysema,chronic obstructiv\\ne pulmonary desiese',\n",
       "       'healthy',\n",
       "       'causion : Tachycardia, heart Attack, Oxygen taxicity, cough, \\nbreathing trouble.',\n",
       "       'healthy', 'healthy', 'highHR: Tachycardia, heart Attack',\n",
       "       'healthy', 'healthy',\n",
       "       'lowSPlowSP : Anemia,Asthma,Emphysema,chronic obstructiv\\ne pulmonary desiese',\n",
       "       'healthy', 'healthy',\n",
       "       'highSP: Oxygen taxicity, cough, breathing trouble', 'healthy',\n",
       "       'lowSPlowSP : Anemia,Asthma,Emphysema,chronic obstructiv\\ne pulmonary desiese',\n",
       "       'danger : Bradycardia, weight gain, Anemia,Asthma,Emphysema,chronic obstructiv\\ne pulmonary desiese',\n",
       "       'highHR: Tachycardia, heart Attack', 'healthy', 'healthy',\n",
       "       'healthy', 'healthy',\n",
       "       'causion : Tachycardia, heart Attack, Oxygen taxicity, cough, \\nbreathing trouble.',\n",
       "       'healthy', 'healthy', 'lowHR : Bradycardia, weight gain',\n",
       "       'healthy', 'healthy', 'healthy',\n",
       "       'danger : Bradycardia, weight gain, Anemia,Asthma,Emphysema,chronic obstructiv\\ne pulmonary desiese',\n",
       "       'healthy', 'healthy', 'healthy',\n",
       "       'danger : Bradycardia, weight gain, Anemia,Asthma,Emphysema,chronic obstructiv\\ne pulmonary desiese',\n",
       "       'healthy', 'lowHR : Bradycardia, weight gain',\n",
       "       'lowHR : Bradycardia, weight gain',\n",
       "       'highHR: Tachycardia, heart Attack', 'healthy', 'healthy',\n",
       "       'healthy', 'healthy', 'healthy', 'healthy',\n",
       "       'highSP: Oxygen taxicity, cough, breathing trouble',\n",
       "       'lowSP : Anemia,Asthma,Emphysema,chronic obstructiv\\ne pulmonary desiese',\n",
       "       'healthy', 'healthy',\n",
       "       'danger : Bradycardia, weight gain, Anemia,Asthma,Emphysema,chronic obstructiv\\ne pulmonary desiese',\n",
       "       'healthy', 'highHR: Tachycardia, heart Attack', 'healthy',\n",
       "       'healthy', 'healthy', 'healthy', 'healthy',\n",
       "       'highHR: Tachycardia, heart Attack',\n",
       "       'lowHR : Bradycardia, weight gain',\n",
       "       'highSP: Oxygen taxicity, cough, breathing trouble',\n",
       "       'highHR: Tachycardia, heart Attack', 'healthy', 'healthy',\n",
       "       'lowSPlowSP : Anemia,Asthma,Emphysema,chronic obstructiv\\ne pulmonary desiese',\n",
       "       'danger : Bradycardia, weight gain, Anemia,Asthma,Emphysema,chronic obstructiv\\ne pulmonary desiese',\n",
       "       'healthy', 'healthy', 'healthy',\n",
       "       'danger : Bradycardia, weight gain, Anemia,Asthma,Emphysema,chronic obstructiv\\ne pulmonary desiese',\n",
       "       'healthy',\n",
       "       'causion : Tachycardia, heart Attack, Oxygen taxicity, cough, \\nbreathing trouble.',\n",
       "       'healthy',\n",
       "       'causion : Tachycardia, heart Attack, Oxygen taxicity, cough, \\nbreathing trouble.',\n",
       "       'healthy',\n",
       "       'lowSPlowSP : Anemia,Asthma,Emphysema,chronic obstructiv\\ne pulmonary desiese',\n",
       "       'healthy', 'healthy',\n",
       "       'causion : Tachycardia, heart Attack, Oxygen taxicity, cough, \\nbreathing trouble.',\n",
       "       'lowSP : Anemia,Asthma,Emphysema,chronic obstructiv\\ne pulmonary desiese',\n",
       "       'healthy',\n",
       "       'lowSPlowSP : Anemia,Asthma,Emphysema,chronic obstructiv\\ne pulmonary desiese',\n",
       "       'healthy', 'healthy', 'lowHR : Bradycardia, weight gain',\n",
       "       'healthy', 'healthy'], dtype='<U97')"
      ]
     },
     "execution_count": 30,
     "metadata": {},
     "output_type": "execute_result"
    }
   ],
   "source": [
    "y_pred = gnb.fit(x_train, y_train).predict(x_test)\n",
    "y_pred"
   ]
  },
  {
   "cell_type": "code",
   "execution_count": 31,
   "id": "ba659cd0",
   "metadata": {},
   "outputs": [
    {
     "name": "stdout",
     "output_type": "stream",
     "text": [
      "Number of mislabeled points out of a total 238 points : 13\n"
     ]
    }
   ],
   "source": [
    "print(\"Number of mislabeled points out of a total %d points : %d\"\n",
    "...       % (x_test.shape[0], (y_test != y_pred).sum()))"
   ]
  },
  {
   "cell_type": "code",
   "execution_count": 32,
   "id": "a0dc3f69",
   "metadata": {},
   "outputs": [
    {
     "name": "stderr",
     "output_type": "stream",
     "text": [
      "C:\\Users\\stars\\anaconda3\\lib\\site-packages\\sklearn\\base.py:450: UserWarning: X does not have valid feature names, but GaussianNB was fitted with feature names\n",
      "  warnings.warn(\n"
     ]
    },
    {
     "data": {
      "text/plain": [
       "array(['healthy'], dtype='<U97')"
      ]
     },
     "execution_count": 32,
     "metadata": {},
     "output_type": "execute_result"
    }
   ],
   "source": [
    "gnb.predict([[a,b]])"
   ]
  },
  {
   "cell_type": "code",
   "execution_count": 33,
   "id": "696bc9c8",
   "metadata": {},
   "outputs": [],
   "source": [
    "from sklearn.metrics import confusion_matrix, accuracy_score"
   ]
  },
  {
   "cell_type": "markdown",
   "id": "3ab1ed4b",
   "metadata": {},
   "source": [
    "## support vector machine"
   ]
  },
  {
   "cell_type": "code",
   "execution_count": 34,
   "id": "219b12d0",
   "metadata": {},
   "outputs": [],
   "source": [
    "from sklearn.svm import SVC"
   ]
  },
  {
   "cell_type": "code",
   "execution_count": 35,
   "id": "d0100743",
   "metadata": {},
   "outputs": [],
   "source": [
    "sv1 = SVC(kernel='linear')"
   ]
  },
  {
   "cell_type": "code",
   "execution_count": 36,
   "id": "dd2c2ac6",
   "metadata": {},
   "outputs": [
    {
     "data": {
      "text/html": [
       "<style>#sk-container-id-3 {color: black;background-color: white;}#sk-container-id-3 pre{padding: 0;}#sk-container-id-3 div.sk-toggleable {background-color: white;}#sk-container-id-3 label.sk-toggleable__label {cursor: pointer;display: block;width: 100%;margin-bottom: 0;padding: 0.3em;box-sizing: border-box;text-align: center;}#sk-container-id-3 label.sk-toggleable__label-arrow:before {content: \"▸\";float: left;margin-right: 0.25em;color: #696969;}#sk-container-id-3 label.sk-toggleable__label-arrow:hover:before {color: black;}#sk-container-id-3 div.sk-estimator:hover label.sk-toggleable__label-arrow:before {color: black;}#sk-container-id-3 div.sk-toggleable__content {max-height: 0;max-width: 0;overflow: hidden;text-align: left;background-color: #f0f8ff;}#sk-container-id-3 div.sk-toggleable__content pre {margin: 0.2em;color: black;border-radius: 0.25em;background-color: #f0f8ff;}#sk-container-id-3 input.sk-toggleable__control:checked~div.sk-toggleable__content {max-height: 200px;max-width: 100%;overflow: auto;}#sk-container-id-3 input.sk-toggleable__control:checked~label.sk-toggleable__label-arrow:before {content: \"▾\";}#sk-container-id-3 div.sk-estimator input.sk-toggleable__control:checked~label.sk-toggleable__label {background-color: #d4ebff;}#sk-container-id-3 div.sk-label input.sk-toggleable__control:checked~label.sk-toggleable__label {background-color: #d4ebff;}#sk-container-id-3 input.sk-hidden--visually {border: 0;clip: rect(1px 1px 1px 1px);clip: rect(1px, 1px, 1px, 1px);height: 1px;margin: -1px;overflow: hidden;padding: 0;position: absolute;width: 1px;}#sk-container-id-3 div.sk-estimator {font-family: monospace;background-color: #f0f8ff;border: 1px dotted black;border-radius: 0.25em;box-sizing: border-box;margin-bottom: 0.5em;}#sk-container-id-3 div.sk-estimator:hover {background-color: #d4ebff;}#sk-container-id-3 div.sk-parallel-item::after {content: \"\";width: 100%;border-bottom: 1px solid gray;flex-grow: 1;}#sk-container-id-3 div.sk-label:hover label.sk-toggleable__label {background-color: #d4ebff;}#sk-container-id-3 div.sk-serial::before {content: \"\";position: absolute;border-left: 1px solid gray;box-sizing: border-box;top: 0;bottom: 0;left: 50%;z-index: 0;}#sk-container-id-3 div.sk-serial {display: flex;flex-direction: column;align-items: center;background-color: white;padding-right: 0.2em;padding-left: 0.2em;position: relative;}#sk-container-id-3 div.sk-item {position: relative;z-index: 1;}#sk-container-id-3 div.sk-parallel {display: flex;align-items: stretch;justify-content: center;background-color: white;position: relative;}#sk-container-id-3 div.sk-item::before, #sk-container-id-3 div.sk-parallel-item::before {content: \"\";position: absolute;border-left: 1px solid gray;box-sizing: border-box;top: 0;bottom: 0;left: 50%;z-index: -1;}#sk-container-id-3 div.sk-parallel-item {display: flex;flex-direction: column;z-index: 1;position: relative;background-color: white;}#sk-container-id-3 div.sk-parallel-item:first-child::after {align-self: flex-end;width: 50%;}#sk-container-id-3 div.sk-parallel-item:last-child::after {align-self: flex-start;width: 50%;}#sk-container-id-3 div.sk-parallel-item:only-child::after {width: 0;}#sk-container-id-3 div.sk-dashed-wrapped {border: 1px dashed gray;margin: 0 0.4em 0.5em 0.4em;box-sizing: border-box;padding-bottom: 0.4em;background-color: white;}#sk-container-id-3 div.sk-label label {font-family: monospace;font-weight: bold;display: inline-block;line-height: 1.2em;}#sk-container-id-3 div.sk-label-container {text-align: center;}#sk-container-id-3 div.sk-container {/* jupyter's `normalize.less` sets `[hidden] { display: none; }` but bootstrap.min.css set `[hidden] { display: none !important; }` so we also need the `!important` here to be able to override the default hidden behavior on the sphinx rendered scikit-learn.org. See: https://github.com/scikit-learn/scikit-learn/issues/21755 */display: inline-block !important;position: relative;}#sk-container-id-3 div.sk-text-repr-fallback {display: none;}</style><div id=\"sk-container-id-3\" class=\"sk-top-container\"><div class=\"sk-text-repr-fallback\"><pre>SVC(kernel=&#x27;linear&#x27;)</pre><b>In a Jupyter environment, please rerun this cell to show the HTML representation or trust the notebook. <br />On GitHub, the HTML representation is unable to render, please try loading this page with nbviewer.org.</b></div><div class=\"sk-container\" hidden><div class=\"sk-item\"><div class=\"sk-estimator sk-toggleable\"><input class=\"sk-toggleable__control sk-hidden--visually\" id=\"sk-estimator-id-3\" type=\"checkbox\" checked><label for=\"sk-estimator-id-3\" class=\"sk-toggleable__label sk-toggleable__label-arrow\">SVC</label><div class=\"sk-toggleable__content\"><pre>SVC(kernel=&#x27;linear&#x27;)</pre></div></div></div></div></div>"
      ],
      "text/plain": [
       "SVC(kernel='linear')"
      ]
     },
     "execution_count": 36,
     "metadata": {},
     "output_type": "execute_result"
    }
   ],
   "source": [
    "sv1.fit(X, Y)"
   ]
  },
  {
   "cell_type": "code",
   "execution_count": 55,
   "id": "40825c89",
   "metadata": {
    "collapsed": true
   },
   "outputs": [
    {
     "data": {
      "text/plain": [
       "array(['healthy', 'healthy', 'lowHR : Bradycardia, weight gain',\n",
       "       'highHR: Tachycardia, heart Attack', 'healthy',\n",
       "       'lowSP : Anemia,Asthma,Emphysema,chronic obstructiv\\ne pulmonary desiese',\n",
       "       'healthy', 'healthy', 'highHR: Tachycardia, heart Attack',\n",
       "       'healthy', 'healthy',\n",
       "       'lowSP : Anemia,Asthma,Emphysema,chronic obstructiv\\ne pulmonary desiese',\n",
       "       'healthy', 'healthy',\n",
       "       'danger : Bradycardia, weight gain, Anemia,Asthma,Emphysema,chronic obstructiv\\ne pulmonary desiese',\n",
       "       'causion : Tachycardia, heart Attack, Oxygen taxicity, cough, \\nbreathing trouble.',\n",
       "       'healthy', 'healthy', 'lowHR : Bradycardia, weight gain',\n",
       "       'healthy', 'healthy',\n",
       "       'lowSP : Anemia,Asthma,Emphysema,chronic obstructiv\\ne pulmonary desiese',\n",
       "       'healthy', 'highSP: Oxygen taxicity, cough, breathing trouble',\n",
       "       'healthy', 'healthy', 'healthy',\n",
       "       'lowSP : Anemia,Asthma,Emphysema,chronic obstructiv\\ne pulmonary desiese',\n",
       "       'healthy', 'healthy',\n",
       "       'danger : Bradycardia, weight gain, Anemia,Asthma,Emphysema,chronic obstructiv\\ne pulmonary desiese',\n",
       "       'causion : Tachycardia, heart Attack, Oxygen taxicity, cough, \\nbreathing trouble.',\n",
       "       'healthy', 'healthy', 'healthy',\n",
       "       'lowHR : Bradycardia, weight gain', 'healthy', 'healthy',\n",
       "       'lowSP : Anemia,Asthma,Emphysema,chronic obstructiv\\ne pulmonary desiese',\n",
       "       'healthy', 'highSP: Oxygen taxicity, cough, breathing trouble',\n",
       "       'healthy', 'healthy', 'healthy',\n",
       "       'lowSP : Anemia,Asthma,Emphysema,chronic obstructiv\\ne pulmonary desiese',\n",
       "       'healthy', 'healthy',\n",
       "       'danger : Bradycardia, weight gain, Anemia,Asthma,Emphysema,chronic obstructiv\\ne pulmonary desiese',\n",
       "       'causion : Tachycardia, heart Attack, Oxygen taxicity, cough, \\nbreathing trouble.',\n",
       "       'healthy', 'healthy', 'lowHR : Bradycardia, weight gain',\n",
       "       'healthy', 'healthy',\n",
       "       'lowSP : Anemia,Asthma,Emphysema,chronic obstructiv\\ne pulmonary desiese',\n",
       "       'healthy', 'healthy',\n",
       "       'highSP: Oxygen taxicity, cough, breathing trouble', 'healthy',\n",
       "       'healthy',\n",
       "       'lowSP : Anemia,Asthma,Emphysema,chronic obstructiv\\ne pulmonary desiese',\n",
       "       'healthy', 'healthy',\n",
       "       'danger : Bradycardia, weight gain, Anemia,Asthma,Emphysema,chronic obstructiv\\ne pulmonary desiese',\n",
       "       'causion : Tachycardia, heart Attack, Oxygen taxicity, cough, \\nbreathing trouble.',\n",
       "       'healthy', 'healthy', 'lowHR : Bradycardia, weight gain',\n",
       "       'highHR: Tachycardia, heart Attack', 'healthy',\n",
       "       'lowSP : Anemia,Asthma,Emphysema,chronic obstructiv\\ne pulmonary desiese',\n",
       "       'healthy', 'healthy', 'highHR: Tachycardia, heart Attack',\n",
       "       'healthy', 'healthy',\n",
       "       'lowSP : Anemia,Asthma,Emphysema,chronic obstructiv\\ne pulmonary desiese',\n",
       "       'healthy', 'healthy',\n",
       "       'danger : Bradycardia, weight gain, Anemia,Asthma,Emphysema,chronic obstructiv\\ne pulmonary desiese',\n",
       "       'causion : Tachycardia, heart Attack, Oxygen taxicity, cough, \\nbreathing trouble.',\n",
       "       'healthy', 'healthy', 'lowHR : Bradycardia, weight gain',\n",
       "       'healthy', 'healthy',\n",
       "       'lowSP : Anemia,Asthma,Emphysema,chronic obstructiv\\ne pulmonary desiese',\n",
       "       'healthy', 'highSP: Oxygen taxicity, cough, breathing trouble',\n",
       "       'healthy', 'healthy', 'healthy',\n",
       "       'lowSP : Anemia,Asthma,Emphysema,chronic obstructiv\\ne pulmonary desiese',\n",
       "       'healthy', 'healthy',\n",
       "       'danger : Bradycardia, weight gain, Anemia,Asthma,Emphysema,chronic obstructiv\\ne pulmonary desiese',\n",
       "       'causion : Tachycardia, heart Attack, Oxygen taxicity, cough, \\nbreathing trouble.',\n",
       "       'healthy', 'healthy', 'healthy',\n",
       "       'lowHR : Bradycardia, weight gain', 'healthy', 'healthy',\n",
       "       'lowSP : Anemia,Asthma,Emphysema,chronic obstructiv\\ne pulmonary desiese',\n",
       "       'healthy', 'highSP: Oxygen taxicity, cough, breathing trouble',\n",
       "       'healthy', 'healthy', 'healthy',\n",
       "       'lowSP : Anemia,Asthma,Emphysema,chronic obstructiv\\ne pulmonary desiese',\n",
       "       'healthy', 'healthy',\n",
       "       'danger : Bradycardia, weight gain, Anemia,Asthma,Emphysema,chronic obstructiv\\ne pulmonary desiese',\n",
       "       'causion : Tachycardia, heart Attack, Oxygen taxicity, cough, \\nbreathing trouble.',\n",
       "       'healthy', 'healthy', 'lowHR : Bradycardia, weight gain',\n",
       "       'healthy', 'healthy',\n",
       "       'lowSP : Anemia,Asthma,Emphysema,chronic obstructiv\\ne pulmonary desiese',\n",
       "       'healthy', 'healthy',\n",
       "       'highSP: Oxygen taxicity, cough, breathing trouble', 'healthy',\n",
       "       'healthy',\n",
       "       'lowSP : Anemia,Asthma,Emphysema,chronic obstructiv\\ne pulmonary desiese',\n",
       "       'healthy', 'healthy',\n",
       "       'danger : Bradycardia, weight gain, Anemia,Asthma,Emphysema,chronic obstructiv\\ne pulmonary desiese',\n",
       "       'causion : Tachycardia, heart Attack, Oxygen taxicity, cough, \\nbreathing trouble.',\n",
       "       'healthy', 'healthy', 'lowHR : Bradycardia, weight gain',\n",
       "       'highHR: Tachycardia, heart Attack', 'healthy',\n",
       "       'lowSP : Anemia,Asthma,Emphysema,chronic obstructiv\\ne pulmonary desiese',\n",
       "       'healthy', 'healthy', 'highHR: Tachycardia, heart Attack',\n",
       "       'healthy', 'healthy',\n",
       "       'lowSP : Anemia,Asthma,Emphysema,chronic obstructiv\\ne pulmonary desiese',\n",
       "       'healthy', 'healthy',\n",
       "       'danger : Bradycardia, weight gain, Anemia,Asthma,Emphysema,chronic obstructiv\\ne pulmonary desiese',\n",
       "       'causion : Tachycardia, heart Attack, Oxygen taxicity, cough, \\nbreathing trouble.',\n",
       "       'healthy', 'healthy', 'lowHR : Bradycardia, weight gain',\n",
       "       'healthy', 'healthy',\n",
       "       'lowSP : Anemia,Asthma,Emphysema,chronic obstructiv\\ne pulmonary desiese',\n",
       "       'healthy', 'highSP: Oxygen taxicity, cough, breathing trouble',\n",
       "       'healthy', 'healthy', 'healthy',\n",
       "       'lowSP : Anemia,Asthma,Emphysema,chronic obstructiv\\ne pulmonary desiese',\n",
       "       'healthy', 'healthy',\n",
       "       'danger : Bradycardia, weight gain, Anemia,Asthma,Emphysema,chronic obstructiv\\ne pulmonary desiese',\n",
       "       'causion : Tachycardia, heart Attack, Oxygen taxicity, cough, \\nbreathing trouble.',\n",
       "       'healthy', 'healthy', 'healthy',\n",
       "       'lowHR : Bradycardia, weight gain', 'healthy', 'healthy',\n",
       "       'lowSP : Anemia,Asthma,Emphysema,chronic obstructiv\\ne pulmonary desiese',\n",
       "       'healthy', 'highSP: Oxygen taxicity, cough, breathing trouble',\n",
       "       'healthy', 'healthy', 'healthy',\n",
       "       'lowSP : Anemia,Asthma,Emphysema,chronic obstructiv\\ne pulmonary desiese',\n",
       "       'healthy', 'healthy',\n",
       "       'danger : Bradycardia, weight gain, Anemia,Asthma,Emphysema,chronic obstructiv\\ne pulmonary desiese',\n",
       "       'causion : Tachycardia, heart Attack, Oxygen taxicity, cough, \\nbreathing trouble.',\n",
       "       'healthy', 'healthy', 'lowHR : Bradycardia, weight gain',\n",
       "       'healthy', 'healthy',\n",
       "       'lowSP : Anemia,Asthma,Emphysema,chronic obstructiv\\ne pulmonary desiese',\n",
       "       'healthy', 'healthy',\n",
       "       'highSP: Oxygen taxicity, cough, breathing trouble', 'healthy',\n",
       "       'healthy',\n",
       "       'lowSP : Anemia,Asthma,Emphysema,chronic obstructiv\\ne pulmonary desiese',\n",
       "       'healthy', 'healthy',\n",
       "       'danger : Bradycardia, weight gain, Anemia,Asthma,Emphysema,chronic obstructiv\\ne pulmonary desiese',\n",
       "       'causion : Tachycardia, heart Attack, Oxygen taxicity, cough, \\nbreathing trouble.',\n",
       "       'healthy', 'healthy', 'lowHR : Bradycardia, weight gain',\n",
       "       'highHR: Tachycardia, heart Attack', 'healthy',\n",
       "       'lowSP : Anemia,Asthma,Emphysema,chronic obstructiv\\ne pulmonary desiese',\n",
       "       'healthy', 'healthy', 'highHR: Tachycardia, heart Attack',\n",
       "       'healthy', 'healthy',\n",
       "       'lowSP : Anemia,Asthma,Emphysema,chronic obstructiv\\ne pulmonary desiese',\n",
       "       'healthy', 'healthy',\n",
       "       'danger : Bradycardia, weight gain, Anemia,Asthma,Emphysema,chronic obstructiv\\ne pulmonary desiese',\n",
       "       'causion : Tachycardia, heart Attack, Oxygen taxicity, cough, \\nbreathing trouble.',\n",
       "       'healthy', 'healthy', 'lowHR : Bradycardia, weight gain',\n",
       "       'healthy', 'healthy',\n",
       "       'lowSP : Anemia,Asthma,Emphysema,chronic obstructiv\\ne pulmonary desiese',\n",
       "       'healthy', 'highSP: Oxygen taxicity, cough, breathing trouble',\n",
       "       'healthy', 'healthy', 'healthy',\n",
       "       'lowSP : Anemia,Asthma,Emphysema,chronic obstructiv\\ne pulmonary desiese',\n",
       "       'healthy', 'healthy',\n",
       "       'danger : Bradycardia, weight gain, Anemia,Asthma,Emphysema,chronic obstructiv\\ne pulmonary desiese',\n",
       "       'causion : Tachycardia, heart Attack, Oxygen taxicity, cough, \\nbreathing trouble.',\n",
       "       'healthy', 'healthy', 'healthy',\n",
       "       'lowHR : Bradycardia, weight gain', 'healthy', 'healthy',\n",
       "       'lowSP : Anemia,Asthma,Emphysema,chronic obstructiv\\ne pulmonary desiese',\n",
       "       'healthy', 'highSP: Oxygen taxicity, cough, breathing trouble',\n",
       "       'healthy', 'healthy', 'healthy',\n",
       "       'lowSP : Anemia,Asthma,Emphysema,chronic obstructiv\\ne pulmonary desiese',\n",
       "       'healthy', 'healthy',\n",
       "       'danger : Bradycardia, weight gain, Anemia,Asthma,Emphysema,chronic obstructiv\\ne pulmonary desiese',\n",
       "       'causion : Tachycardia, heart Attack, Oxygen taxicity, cough, \\nbreathing trouble.',\n",
       "       'healthy', 'healthy', 'lowHR : Bradycardia, weight gain',\n",
       "       'healthy', 'healthy',\n",
       "       'lowSP : Anemia,Asthma,Emphysema,chronic obstructiv\\ne pulmonary desiese',\n",
       "       'healthy', 'healthy',\n",
       "       'highSP: Oxygen taxicity, cough, breathing trouble', 'healthy',\n",
       "       'healthy',\n",
       "       'lowSP : Anemia,Asthma,Emphysema,chronic obstructiv\\ne pulmonary desiese',\n",
       "       'healthy', 'healthy',\n",
       "       'danger : Bradycardia, weight gain, Anemia,Asthma,Emphysema,chronic obstructiv\\ne pulmonary desiese',\n",
       "       'causion : Tachycardia, heart Attack, Oxygen taxicity, cough, \\nbreathing trouble.',\n",
       "       'healthy', 'healthy', 'lowHR : Bradycardia, weight gain',\n",
       "       'highHR: Tachycardia, heart Attack', 'healthy',\n",
       "       'lowSP : Anemia,Asthma,Emphysema,chronic obstructiv\\ne pulmonary desiese',\n",
       "       'healthy', 'healthy', 'highHR: Tachycardia, heart Attack',\n",
       "       'healthy', 'healthy',\n",
       "       'lowSP : Anemia,Asthma,Emphysema,chronic obstructiv\\ne pulmonary desiese',\n",
       "       'healthy', 'healthy',\n",
       "       'danger : Bradycardia, weight gain, Anemia,Asthma,Emphysema,chronic obstructiv\\ne pulmonary desiese',\n",
       "       'causion : Tachycardia, heart Attack, Oxygen taxicity, cough, \\nbreathing trouble.',\n",
       "       'healthy', 'healthy', 'lowHR : Bradycardia, weight gain',\n",
       "       'healthy', 'healthy',\n",
       "       'lowSP : Anemia,Asthma,Emphysema,chronic obstructiv\\ne pulmonary desiese',\n",
       "       'healthy', 'highSP: Oxygen taxicity, cough, breathing trouble',\n",
       "       'healthy', 'healthy', 'healthy',\n",
       "       'lowSP : Anemia,Asthma,Emphysema,chronic obstructiv\\ne pulmonary desiese',\n",
       "       'healthy', 'healthy',\n",
       "       'danger : Bradycardia, weight gain, Anemia,Asthma,Emphysema,chronic obstructiv\\ne pulmonary desiese',\n",
       "       'causion : Tachycardia, heart Attack, Oxygen taxicity, cough, \\nbreathing trouble.',\n",
       "       'healthy', 'healthy', 'healthy',\n",
       "       'lowHR : Bradycardia, weight gain', 'healthy', 'healthy',\n",
       "       'lowSP : Anemia,Asthma,Emphysema,chronic obstructiv\\ne pulmonary desiese',\n",
       "       'healthy', 'highSP: Oxygen taxicity, cough, breathing trouble',\n",
       "       'healthy', 'healthy', 'healthy',\n",
       "       'lowSP : Anemia,Asthma,Emphysema,chronic obstructiv\\ne pulmonary desiese',\n",
       "       'healthy', 'healthy',\n",
       "       'danger : Bradycardia, weight gain, Anemia,Asthma,Emphysema,chronic obstructiv\\ne pulmonary desiese',\n",
       "       'causion : Tachycardia, heart Attack, Oxygen taxicity, cough, \\nbreathing trouble.',\n",
       "       'healthy', 'healthy', 'lowHR : Bradycardia, weight gain',\n",
       "       'healthy', 'healthy',\n",
       "       'lowSP : Anemia,Asthma,Emphysema,chronic obstructiv\\ne pulmonary desiese',\n",
       "       'healthy', 'healthy',\n",
       "       'highSP: Oxygen taxicity, cough, breathing trouble', 'healthy',\n",
       "       'healthy',\n",
       "       'lowSP : Anemia,Asthma,Emphysema,chronic obstructiv\\ne pulmonary desiese',\n",
       "       'healthy', 'healthy',\n",
       "       'danger : Bradycardia, weight gain, Anemia,Asthma,Emphysema,chronic obstructiv\\ne pulmonary desiese',\n",
       "       'causion : Tachycardia, heart Attack, Oxygen taxicity, cough, \\nbreathing trouble.',\n",
       "       'healthy', 'healthy', 'lowHR : Bradycardia, weight gain',\n",
       "       'highHR: Tachycardia, heart Attack', 'healthy',\n",
       "       'lowSP : Anemia,Asthma,Emphysema,chronic obstructiv\\ne pulmonary desiese',\n",
       "       'healthy', 'healthy', 'highHR: Tachycardia, heart Attack',\n",
       "       'healthy', 'healthy',\n",
       "       'lowSP : Anemia,Asthma,Emphysema,chronic obstructiv\\ne pulmonary desiese',\n",
       "       'healthy', 'healthy',\n",
       "       'danger : Bradycardia, weight gain, Anemia,Asthma,Emphysema,chronic obstructiv\\ne pulmonary desiese',\n",
       "       'causion : Tachycardia, heart Attack, Oxygen taxicity, cough, \\nbreathing trouble.',\n",
       "       'healthy', 'healthy', 'lowHR : Bradycardia, weight gain',\n",
       "       'healthy', 'healthy',\n",
       "       'lowSP : Anemia,Asthma,Emphysema,chronic obstructiv\\ne pulmonary desiese',\n",
       "       'healthy', 'highSP: Oxygen taxicity, cough, breathing trouble',\n",
       "       'healthy', 'healthy', 'healthy',\n",
       "       'lowSP : Anemia,Asthma,Emphysema,chronic obstructiv\\ne pulmonary desiese',\n",
       "       'healthy', 'healthy',\n",
       "       'danger : Bradycardia, weight gain, Anemia,Asthma,Emphysema,chronic obstructiv\\ne pulmonary desiese',\n",
       "       'causion : Tachycardia, heart Attack, Oxygen taxicity, cough, \\nbreathing trouble.',\n",
       "       'healthy', 'healthy', 'healthy',\n",
       "       'lowHR : Bradycardia, weight gain', 'healthy', 'healthy',\n",
       "       'lowSP : Anemia,Asthma,Emphysema,chronic obstructiv\\ne pulmonary desiese',\n",
       "       'healthy', 'highSP: Oxygen taxicity, cough, breathing trouble',\n",
       "       'healthy', 'healthy', 'healthy',\n",
       "       'lowSP : Anemia,Asthma,Emphysema,chronic obstructiv\\ne pulmonary desiese',\n",
       "       'healthy', 'healthy',\n",
       "       'danger : Bradycardia, weight gain, Anemia,Asthma,Emphysema,chronic obstructiv\\ne pulmonary desiese',\n",
       "       'causion : Tachycardia, heart Attack, Oxygen taxicity, cough, \\nbreathing trouble.',\n",
       "       'healthy', 'healthy', 'lowHR : Bradycardia, weight gain',\n",
       "       'healthy', 'healthy',\n",
       "       'lowSP : Anemia,Asthma,Emphysema,chronic obstructiv\\ne pulmonary desiese',\n",
       "       'healthy', 'healthy',\n",
       "       'highSP: Oxygen taxicity, cough, breathing trouble', 'healthy',\n",
       "       'healthy',\n",
       "       'lowSP : Anemia,Asthma,Emphysema,chronic obstructiv\\ne pulmonary desiese',\n",
       "       'healthy', 'healthy',\n",
       "       'danger : Bradycardia, weight gain, Anemia,Asthma,Emphysema,chronic obstructiv\\ne pulmonary desiese',\n",
       "       'causion : Tachycardia, heart Attack, Oxygen taxicity, cough, \\nbreathing trouble.',\n",
       "       'healthy', 'healthy', 'lowHR : Bradycardia, weight gain',\n",
       "       'highHR: Tachycardia, heart Attack', 'healthy',\n",
       "       'lowSP : Anemia,Asthma,Emphysema,chronic obstructiv\\ne pulmonary desiese',\n",
       "       'healthy', 'healthy', 'highHR: Tachycardia, heart Attack',\n",
       "       'healthy', 'healthy',\n",
       "       'lowSP : Anemia,Asthma,Emphysema,chronic obstructiv\\ne pulmonary desiese',\n",
       "       'healthy', 'healthy',\n",
       "       'danger : Bradycardia, weight gain, Anemia,Asthma,Emphysema,chronic obstructiv\\ne pulmonary desiese',\n",
       "       'causion : Tachycardia, heart Attack, Oxygen taxicity, cough, \\nbreathing trouble.',\n",
       "       'healthy', 'healthy', 'lowHR : Bradycardia, weight gain',\n",
       "       'healthy', 'healthy',\n",
       "       'lowSP : Anemia,Asthma,Emphysema,chronic obstructiv\\ne pulmonary desiese',\n",
       "       'healthy', 'highSP: Oxygen taxicity, cough, breathing trouble',\n",
       "       'healthy', 'healthy', 'healthy',\n",
       "       'lowSP : Anemia,Asthma,Emphysema,chronic obstructiv\\ne pulmonary desiese',\n",
       "       'healthy', 'healthy',\n",
       "       'danger : Bradycardia, weight gain, Anemia,Asthma,Emphysema,chronic obstructiv\\ne pulmonary desiese',\n",
       "       'causion : Tachycardia, heart Attack, Oxygen taxicity, cough, \\nbreathing trouble.',\n",
       "       'healthy', 'healthy', 'healthy',\n",
       "       'lowHR : Bradycardia, weight gain', 'healthy', 'healthy',\n",
       "       'lowSP : Anemia,Asthma,Emphysema,chronic obstructiv\\ne pulmonary desiese',\n",
       "       'healthy', 'highSP: Oxygen taxicity, cough, breathing trouble',\n",
       "       'healthy', 'healthy', 'healthy',\n",
       "       'lowSP : Anemia,Asthma,Emphysema,chronic obstructiv\\ne pulmonary desiese',\n",
       "       'healthy', 'healthy',\n",
       "       'danger : Bradycardia, weight gain, Anemia,Asthma,Emphysema,chronic obstructiv\\ne pulmonary desiese',\n",
       "       'causion : Tachycardia, heart Attack, Oxygen taxicity, cough, \\nbreathing trouble.',\n",
       "       'healthy', 'healthy', 'lowHR : Bradycardia, weight gain',\n",
       "       'healthy', 'healthy',\n",
       "       'lowSP : Anemia,Asthma,Emphysema,chronic obstructiv\\ne pulmonary desiese',\n",
       "       'healthy', 'healthy',\n",
       "       'highSP: Oxygen taxicity, cough, breathing trouble', 'healthy',\n",
       "       'healthy',\n",
       "       'lowSP : Anemia,Asthma,Emphysema,chronic obstructiv\\ne pulmonary desiese',\n",
       "       'healthy', 'healthy',\n",
       "       'danger : Bradycardia, weight gain, Anemia,Asthma,Emphysema,chronic obstructiv\\ne pulmonary desiese',\n",
       "       'causion : Tachycardia, heart Attack, Oxygen taxicity, cough, \\nbreathing trouble.',\n",
       "       'healthy', 'healthy', 'lowHR : Bradycardia, weight gain',\n",
       "       'highHR: Tachycardia, heart Attack', 'healthy',\n",
       "       'lowSP : Anemia,Asthma,Emphysema,chronic obstructiv\\ne pulmonary desiese',\n",
       "       'healthy', 'healthy', 'highHR: Tachycardia, heart Attack',\n",
       "       'healthy', 'healthy',\n",
       "       'lowSP : Anemia,Asthma,Emphysema,chronic obstructiv\\ne pulmonary desiese',\n",
       "       'healthy', 'healthy',\n",
       "       'danger : Bradycardia, weight gain, Anemia,Asthma,Emphysema,chronic obstructiv\\ne pulmonary desiese',\n",
       "       'causion : Tachycardia, heart Attack, Oxygen taxicity, cough, \\nbreathing trouble.',\n",
       "       'healthy', 'healthy', 'lowHR : Bradycardia, weight gain',\n",
       "       'healthy', 'healthy',\n",
       "       'lowSP : Anemia,Asthma,Emphysema,chronic obstructiv\\ne pulmonary desiese',\n",
       "       'healthy', 'highSP: Oxygen taxicity, cough, breathing trouble',\n",
       "       'healthy', 'healthy', 'healthy',\n",
       "       'lowSP : Anemia,Asthma,Emphysema,chronic obstructiv\\ne pulmonary desiese',\n",
       "       'healthy', 'healthy',\n",
       "       'danger : Bradycardia, weight gain, Anemia,Asthma,Emphysema,chronic obstructiv\\ne pulmonary desiese',\n",
       "       'causion : Tachycardia, heart Attack, Oxygen taxicity, cough, \\nbreathing trouble.',\n",
       "       'healthy', 'healthy', 'healthy',\n",
       "       'lowHR : Bradycardia, weight gain', 'healthy', 'healthy',\n",
       "       'lowSP : Anemia,Asthma,Emphysema,chronic obstructiv\\ne pulmonary desiese',\n",
       "       'healthy', 'highSP: Oxygen taxicity, cough, breathing trouble',\n",
       "       'healthy', 'healthy', 'healthy',\n",
       "       'lowSP : Anemia,Asthma,Emphysema,chronic obstructiv\\ne pulmonary desiese',\n",
       "       'healthy', 'healthy',\n",
       "       'danger : Bradycardia, weight gain, Anemia,Asthma,Emphysema,chronic obstructiv\\ne pulmonary desiese',\n",
       "       'causion : Tachycardia, heart Attack, Oxygen taxicity, cough, \\nbreathing trouble.',\n",
       "       'healthy', 'healthy', 'lowHR : Bradycardia, weight gain',\n",
       "       'healthy', 'healthy',\n",
       "       'lowSP : Anemia,Asthma,Emphysema,chronic obstructiv\\ne pulmonary desiese',\n",
       "       'healthy', 'healthy',\n",
       "       'highSP: Oxygen taxicity, cough, breathing trouble', 'healthy',\n",
       "       'healthy',\n",
       "       'lowSP : Anemia,Asthma,Emphysema,chronic obstructiv\\ne pulmonary desiese',\n",
       "       'healthy', 'healthy',\n",
       "       'danger : Bradycardia, weight gain, Anemia,Asthma,Emphysema,chronic obstructiv\\ne pulmonary desiese',\n",
       "       'causion : Tachycardia, heart Attack, Oxygen taxicity, cough, \\nbreathing trouble.',\n",
       "       'healthy', 'healthy', 'lowHR : Bradycardia, weight gain',\n",
       "       'highHR: Tachycardia, heart Attack', 'healthy',\n",
       "       'lowSP : Anemia,Asthma,Emphysema,chronic obstructiv\\ne pulmonary desiese',\n",
       "       'healthy', 'healthy', 'highHR: Tachycardia, heart Attack',\n",
       "       'healthy', 'healthy',\n",
       "       'lowSP : Anemia,Asthma,Emphysema,chronic obstructiv\\ne pulmonary desiese',\n",
       "       'healthy', 'healthy',\n",
       "       'danger : Bradycardia, weight gain, Anemia,Asthma,Emphysema,chronic obstructiv\\ne pulmonary desiese',\n",
       "       'causion : Tachycardia, heart Attack, Oxygen taxicity, cough, \\nbreathing trouble.',\n",
       "       'healthy', 'healthy', 'lowHR : Bradycardia, weight gain',\n",
       "       'healthy', 'healthy',\n",
       "       'lowSP : Anemia,Asthma,Emphysema,chronic obstructiv\\ne pulmonary desiese',\n",
       "       'healthy', 'highSP: Oxygen taxicity, cough, breathing trouble',\n",
       "       'healthy', 'healthy', 'healthy',\n",
       "       'lowSP : Anemia,Asthma,Emphysema,chronic obstructiv\\ne pulmonary desiese',\n",
       "       'healthy', 'healthy',\n",
       "       'danger : Bradycardia, weight gain, Anemia,Asthma,Emphysema,chronic obstructiv\\ne pulmonary desiese',\n",
       "       'causion : Tachycardia, heart Attack, Oxygen taxicity, cough, \\nbreathing trouble.',\n",
       "       'healthy', 'healthy', 'healthy',\n",
       "       'lowHR : Bradycardia, weight gain', 'healthy', 'healthy',\n",
       "       'lowSP : Anemia,Asthma,Emphysema,chronic obstructiv\\ne pulmonary desiese',\n",
       "       'healthy', 'highSP: Oxygen taxicity, cough, breathing trouble',\n",
       "       'healthy', 'healthy', 'healthy',\n",
       "       'lowSP : Anemia,Asthma,Emphysema,chronic obstructiv\\ne pulmonary desiese',\n",
       "       'healthy', 'healthy',\n",
       "       'danger : Bradycardia, weight gain, Anemia,Asthma,Emphysema,chronic obstructiv\\ne pulmonary desiese',\n",
       "       'causion : Tachycardia, heart Attack, Oxygen taxicity, cough, \\nbreathing trouble.',\n",
       "       'healthy', 'healthy', 'lowHR : Bradycardia, weight gain',\n",
       "       'healthy', 'healthy',\n",
       "       'lowSP : Anemia,Asthma,Emphysema,chronic obstructiv\\ne pulmonary desiese',\n",
       "       'healthy', 'healthy',\n",
       "       'highSP: Oxygen taxicity, cough, breathing trouble', 'healthy',\n",
       "       'healthy',\n",
       "       'lowSP : Anemia,Asthma,Emphysema,chronic obstructiv\\ne pulmonary desiese',\n",
       "       'healthy', 'healthy',\n",
       "       'danger : Bradycardia, weight gain, Anemia,Asthma,Emphysema,chronic obstructiv\\ne pulmonary desiese',\n",
       "       'causion : Tachycardia, heart Attack, Oxygen taxicity, cough, \\nbreathing trouble.',\n",
       "       'healthy', 'healthy', 'lowHR : Bradycardia, weight gain',\n",
       "       'highHR: Tachycardia, heart Attack', 'healthy',\n",
       "       'lowSP : Anemia,Asthma,Emphysema,chronic obstructiv\\ne pulmonary desiese',\n",
       "       'healthy', 'healthy', 'highHR: Tachycardia, heart Attack',\n",
       "       'healthy', 'healthy',\n",
       "       'lowSP : Anemia,Asthma,Emphysema,chronic obstructiv\\ne pulmonary desiese',\n",
       "       'healthy', 'healthy',\n",
       "       'danger : Bradycardia, weight gain, Anemia,Asthma,Emphysema,chronic obstructiv\\ne pulmonary desiese',\n",
       "       'causion : Tachycardia, heart Attack, Oxygen taxicity, cough, \\nbreathing trouble.',\n",
       "       'healthy', 'healthy', 'lowHR : Bradycardia, weight gain',\n",
       "       'healthy', 'healthy',\n",
       "       'lowSP : Anemia,Asthma,Emphysema,chronic obstructiv\\ne pulmonary desiese',\n",
       "       'healthy', 'highSP: Oxygen taxicity, cough, breathing trouble',\n",
       "       'healthy', 'healthy', 'healthy',\n",
       "       'lowSP : Anemia,Asthma,Emphysema,chronic obstructiv\\ne pulmonary desiese',\n",
       "       'healthy', 'healthy',\n",
       "       'danger : Bradycardia, weight gain, Anemia,Asthma,Emphysema,chronic obstructiv\\ne pulmonary desiese',\n",
       "       'causion : Tachycardia, heart Attack, Oxygen taxicity, cough, \\nbreathing trouble.',\n",
       "       'healthy', 'healthy', 'healthy',\n",
       "       'lowHR : Bradycardia, weight gain', 'healthy', 'healthy',\n",
       "       'lowSP : Anemia,Asthma,Emphysema,chronic obstructiv\\ne pulmonary desiese',\n",
       "       'healthy', 'highSP: Oxygen taxicity, cough, breathing trouble',\n",
       "       'healthy', 'healthy', 'healthy',\n",
       "       'lowSP : Anemia,Asthma,Emphysema,chronic obstructiv\\ne pulmonary desiese',\n",
       "       'healthy', 'healthy',\n",
       "       'danger : Bradycardia, weight gain, Anemia,Asthma,Emphysema,chronic obstructiv\\ne pulmonary desiese',\n",
       "       'causion : Tachycardia, heart Attack, Oxygen taxicity, cough, \\nbreathing trouble.',\n",
       "       'healthy', 'healthy', 'lowHR : Bradycardia, weight gain',\n",
       "       'healthy', 'healthy',\n",
       "       'lowSP : Anemia,Asthma,Emphysema,chronic obstructiv\\ne pulmonary desiese',\n",
       "       'healthy', 'healthy',\n",
       "       'highSP: Oxygen taxicity, cough, breathing trouble', 'healthy',\n",
       "       'healthy',\n",
       "       'lowSP : Anemia,Asthma,Emphysema,chronic obstructiv\\ne pulmonary desiese',\n",
       "       'healthy', 'healthy',\n",
       "       'danger : Bradycardia, weight gain, Anemia,Asthma,Emphysema,chronic obstructiv\\ne pulmonary desiese',\n",
       "       'causion : Tachycardia, heart Attack, Oxygen taxicity, cough, \\nbreathing trouble.',\n",
       "       'healthy', 'healthy', 'lowHR : Bradycardia, weight gain',\n",
       "       'highHR: Tachycardia, heart Attack', 'healthy',\n",
       "       'lowSP : Anemia,Asthma,Emphysema,chronic obstructiv\\ne pulmonary desiese',\n",
       "       'healthy', 'healthy', 'highHR: Tachycardia, heart Attack',\n",
       "       'healthy', 'healthy',\n",
       "       'lowSP : Anemia,Asthma,Emphysema,chronic obstructiv\\ne pulmonary desiese',\n",
       "       'healthy', 'healthy',\n",
       "       'danger : Bradycardia, weight gain, Anemia,Asthma,Emphysema,chronic obstructiv\\ne pulmonary desiese',\n",
       "       'causion : Tachycardia, heart Attack, Oxygen taxicity, cough, \\nbreathing trouble.',\n",
       "       'healthy', 'healthy', 'lowHR : Bradycardia, weight gain',\n",
       "       'healthy', 'healthy',\n",
       "       'lowSP : Anemia,Asthma,Emphysema,chronic obstructiv\\ne pulmonary desiese',\n",
       "       'healthy', 'highSP: Oxygen taxicity, cough, breathing trouble',\n",
       "       'healthy', 'healthy', 'healthy',\n",
       "       'lowSP : Anemia,Asthma,Emphysema,chronic obstructiv\\ne pulmonary desiese',\n",
       "       'healthy', 'healthy',\n",
       "       'danger : Bradycardia, weight gain, Anemia,Asthma,Emphysema,chronic obstructiv\\ne pulmonary desiese',\n",
       "       'causion : Tachycardia, heart Attack, Oxygen taxicity, cough, \\nbreathing trouble.',\n",
       "       'healthy', 'healthy', 'healthy',\n",
       "       'lowHR : Bradycardia, weight gain', 'healthy', 'healthy',\n",
       "       'lowSP : Anemia,Asthma,Emphysema,chronic obstructiv\\ne pulmonary desiese',\n",
       "       'healthy', 'highSP: Oxygen taxicity, cough, breathing trouble',\n",
       "       'healthy', 'healthy', 'healthy',\n",
       "       'lowSP : Anemia,Asthma,Emphysema,chronic obstructiv\\ne pulmonary desiese',\n",
       "       'healthy', 'healthy',\n",
       "       'danger : Bradycardia, weight gain, Anemia,Asthma,Emphysema,chronic obstructiv\\ne pulmonary desiese',\n",
       "       'causion : Tachycardia, heart Attack, Oxygen taxicity, cough, \\nbreathing trouble.',\n",
       "       'healthy', 'healthy', 'lowHR : Bradycardia, weight gain',\n",
       "       'healthy', 'healthy',\n",
       "       'lowSP : Anemia,Asthma,Emphysema,chronic obstructiv\\ne pulmonary desiese',\n",
       "       'healthy', 'healthy',\n",
       "       'highSP: Oxygen taxicity, cough, breathing trouble', 'healthy',\n",
       "       'healthy',\n",
       "       'lowSP : Anemia,Asthma,Emphysema,chronic obstructiv\\ne pulmonary desiese',\n",
       "       'healthy', 'healthy',\n",
       "       'danger : Bradycardia, weight gain, Anemia,Asthma,Emphysema,chronic obstructiv\\ne pulmonary desiese',\n",
       "       'causion : Tachycardia, heart Attack, Oxygen taxicity, cough, \\nbreathing trouble.',\n",
       "       'healthy', 'healthy', 'lowHR : Bradycardia, weight gain',\n",
       "       'highHR: Tachycardia, heart Attack', 'healthy',\n",
       "       'lowSP : Anemia,Asthma,Emphysema,chronic obstructiv\\ne pulmonary desiese',\n",
       "       'healthy', 'healthy', 'highHR: Tachycardia, heart Attack',\n",
       "       'healthy', 'healthy',\n",
       "       'lowSP : Anemia,Asthma,Emphysema,chronic obstructiv\\ne pulmonary desiese',\n",
       "       'healthy', 'healthy',\n",
       "       'danger : Bradycardia, weight gain, Anemia,Asthma,Emphysema,chronic obstructiv\\ne pulmonary desiese',\n",
       "       'causion : Tachycardia, heart Attack, Oxygen taxicity, cough, \\nbreathing trouble.',\n",
       "       'healthy', 'healthy', 'lowHR : Bradycardia, weight gain',\n",
       "       'healthy', 'healthy',\n",
       "       'lowSP : Anemia,Asthma,Emphysema,chronic obstructiv\\ne pulmonary desiese',\n",
       "       'healthy', 'highSP: Oxygen taxicity, cough, breathing trouble',\n",
       "       'healthy', 'healthy', 'healthy',\n",
       "       'lowSP : Anemia,Asthma,Emphysema,chronic obstructiv\\ne pulmonary desiese',\n",
       "       'healthy', 'healthy',\n",
       "       'danger : Bradycardia, weight gain, Anemia,Asthma,Emphysema,chronic obstructiv\\ne pulmonary desiese',\n",
       "       'causion : Tachycardia, heart Attack, Oxygen taxicity, cough, \\nbreathing trouble.',\n",
       "       'healthy', 'healthy', 'healthy',\n",
       "       'lowHR : Bradycardia, weight gain', 'healthy', 'healthy',\n",
       "       'lowSP : Anemia,Asthma,Emphysema,chronic obstructiv\\ne pulmonary desiese',\n",
       "       'healthy', 'highSP: Oxygen taxicity, cough, breathing trouble',\n",
       "       'healthy', 'healthy', 'healthy',\n",
       "       'lowSP : Anemia,Asthma,Emphysema,chronic obstructiv\\ne pulmonary desiese',\n",
       "       'healthy', 'healthy',\n",
       "       'danger : Bradycardia, weight gain, Anemia,Asthma,Emphysema,chronic obstructiv\\ne pulmonary desiese',\n",
       "       'causion : Tachycardia, heart Attack, Oxygen taxicity, cough, \\nbreathing trouble.',\n",
       "       'healthy', 'healthy', 'lowHR : Bradycardia, weight gain',\n",
       "       'healthy', 'healthy',\n",
       "       'lowSP : Anemia,Asthma,Emphysema,chronic obstructiv\\ne pulmonary desiese',\n",
       "       'healthy', 'healthy',\n",
       "       'highSP: Oxygen taxicity, cough, breathing trouble', 'healthy',\n",
       "       'healthy',\n",
       "       'lowSP : Anemia,Asthma,Emphysema,chronic obstructiv\\ne pulmonary desiese',\n",
       "       'healthy', 'healthy',\n",
       "       'danger : Bradycardia, weight gain, Anemia,Asthma,Emphysema,chronic obstructiv\\ne pulmonary desiese',\n",
       "       'causion : Tachycardia, heart Attack, Oxygen taxicity, cough, \\nbreathing trouble.',\n",
       "       'healthy', 'healthy', 'lowHR : Bradycardia, weight gain',\n",
       "       'highHR: Tachycardia, heart Attack', 'healthy',\n",
       "       'lowSP : Anemia,Asthma,Emphysema,chronic obstructiv\\ne pulmonary desiese',\n",
       "       'healthy', 'healthy', 'highHR: Tachycardia, heart Attack',\n",
       "       'healthy', 'healthy',\n",
       "       'lowSP : Anemia,Asthma,Emphysema,chronic obstructiv\\ne pulmonary desiese',\n",
       "       'healthy', 'healthy',\n",
       "       'danger : Bradycardia, weight gain, Anemia,Asthma,Emphysema,chronic obstructiv\\ne pulmonary desiese',\n",
       "       'causion : Tachycardia, heart Attack, Oxygen taxicity, cough, \\nbreathing trouble.',\n",
       "       'healthy', 'healthy', 'lowHR : Bradycardia, weight gain',\n",
       "       'healthy', 'healthy',\n",
       "       'lowSP : Anemia,Asthma,Emphysema,chronic obstructiv\\ne pulmonary desiese',\n",
       "       'healthy', 'highSP: Oxygen taxicity, cough, breathing trouble',\n",
       "       'healthy', 'healthy', 'healthy',\n",
       "       'lowSP : Anemia,Asthma,Emphysema,chronic obstructiv\\ne pulmonary desiese',\n",
       "       'healthy', 'healthy',\n",
       "       'danger : Bradycardia, weight gain, Anemia,Asthma,Emphysema,chronic obstructiv\\ne pulmonary desiese',\n",
       "       'causion : Tachycardia, heart Attack, Oxygen taxicity, cough, \\nbreathing trouble.',\n",
       "       'healthy', 'healthy', 'healthy',\n",
       "       'lowHR : Bradycardia, weight gain', 'healthy', 'healthy',\n",
       "       'lowSP : Anemia,Asthma,Emphysema,chronic obstructiv\\ne pulmonary desiese',\n",
       "       'healthy', 'highSP: Oxygen taxicity, cough, breathing trouble',\n",
       "       'healthy', 'healthy', 'healthy',\n",
       "       'lowSP : Anemia,Asthma,Emphysema,chronic obstructiv\\ne pulmonary desiese',\n",
       "       'healthy', 'healthy',\n",
       "       'danger : Bradycardia, weight gain, Anemia,Asthma,Emphysema,chronic obstructiv\\ne pulmonary desiese',\n",
       "       'causion : Tachycardia, heart Attack, Oxygen taxicity, cough, \\nbreathing trouble.',\n",
       "       'healthy', 'healthy', 'lowHR : Bradycardia, weight gain',\n",
       "       'healthy', 'healthy',\n",
       "       'lowSP : Anemia,Asthma,Emphysema,chronic obstructiv\\ne pulmonary desiese',\n",
       "       'healthy', 'healthy',\n",
       "       'highSP: Oxygen taxicity, cough, breathing trouble', 'healthy',\n",
       "       'healthy',\n",
       "       'lowSP : Anemia,Asthma,Emphysema,chronic obstructiv\\ne pulmonary desiese',\n",
       "       'healthy', 'healthy',\n",
       "       'danger : Bradycardia, weight gain, Anemia,Asthma,Emphysema,chronic obstructiv\\ne pulmonary desiese',\n",
       "       'causion : Tachycardia, heart Attack, Oxygen taxicity, cough, \\nbreathing trouble.',\n",
       "       'healthy', 'healthy', 'lowHR : Bradycardia, weight gain',\n",
       "       'highHR: Tachycardia, heart Attack', 'healthy',\n",
       "       'lowSP : Anemia,Asthma,Emphysema,chronic obstructiv\\ne pulmonary desiese',\n",
       "       'healthy', 'healthy', 'highHR: Tachycardia, heart Attack',\n",
       "       'healthy', 'healthy',\n",
       "       'lowSP : Anemia,Asthma,Emphysema,chronic obstructiv\\ne pulmonary desiese',\n",
       "       'healthy', 'healthy',\n",
       "       'danger : Bradycardia, weight gain, Anemia,Asthma,Emphysema,chronic obstructiv\\ne pulmonary desiese',\n",
       "       'causion : Tachycardia, heart Attack, Oxygen taxicity, cough, \\nbreathing trouble.',\n",
       "       'healthy', 'healthy', 'lowHR : Bradycardia, weight gain',\n",
       "       'healthy', 'healthy',\n",
       "       'lowSP : Anemia,Asthma,Emphysema,chronic obstructiv\\ne pulmonary desiese',\n",
       "       'healthy', 'highSP: Oxygen taxicity, cough, breathing trouble',\n",
       "       'healthy', 'healthy', 'healthy',\n",
       "       'lowSP : Anemia,Asthma,Emphysema,chronic obstructiv\\ne pulmonary desiese',\n",
       "       'healthy', 'healthy',\n",
       "       'danger : Bradycardia, weight gain, Anemia,Asthma,Emphysema,chronic obstructiv\\ne pulmonary desiese',\n",
       "       'causion : Tachycardia, heart Attack, Oxygen taxicity, cough, \\nbreathing trouble.',\n",
       "       'healthy', 'healthy', 'healthy',\n",
       "       'lowHR : Bradycardia, weight gain', 'healthy', 'healthy',\n",
       "       'lowSP : Anemia,Asthma,Emphysema,chronic obstructiv\\ne pulmonary desiese',\n",
       "       'healthy', 'highSP: Oxygen taxicity, cough, breathing trouble',\n",
       "       'healthy', 'healthy', 'healthy',\n",
       "       'lowSP : Anemia,Asthma,Emphysema,chronic obstructiv\\ne pulmonary desiese',\n",
       "       'healthy', 'healthy',\n",
       "       'danger : Bradycardia, weight gain, Anemia,Asthma,Emphysema,chronic obstructiv\\ne pulmonary desiese',\n",
       "       'causion : Tachycardia, heart Attack, Oxygen taxicity, cough, \\nbreathing trouble.',\n",
       "       'healthy', 'healthy', 'lowHR : Bradycardia, weight gain',\n",
       "       'healthy', 'healthy',\n",
       "       'lowSP : Anemia,Asthma,Emphysema,chronic obstructiv\\ne pulmonary desiese',\n",
       "       'healthy', 'healthy',\n",
       "       'highSP: Oxygen taxicity, cough, breathing trouble', 'healthy',\n",
       "       'healthy',\n",
       "       'lowSP : Anemia,Asthma,Emphysema,chronic obstructiv\\ne pulmonary desiese',\n",
       "       'healthy', 'healthy',\n",
       "       'danger : Bradycardia, weight gain, Anemia,Asthma,Emphysema,chronic obstructiv\\ne pulmonary desiese',\n",
       "       'causion : Tachycardia, heart Attack, Oxygen taxicity, cough, \\nbreathing trouble.',\n",
       "       'healthy', 'healthy', 'lowHR : Bradycardia, weight gain',\n",
       "       'highHR: Tachycardia, heart Attack', 'healthy',\n",
       "       'lowSP : Anemia,Asthma,Emphysema,chronic obstructiv\\ne pulmonary desiese',\n",
       "       'healthy', 'healthy', 'highHR: Tachycardia, heart Attack',\n",
       "       'healthy', 'healthy',\n",
       "       'lowSP : Anemia,Asthma,Emphysema,chronic obstructiv\\ne pulmonary desiese',\n",
       "       'healthy', 'healthy',\n",
       "       'danger : Bradycardia, weight gain, Anemia,Asthma,Emphysema,chronic obstructiv\\ne pulmonary desiese',\n",
       "       'causion : Tachycardia, heart Attack, Oxygen taxicity, cough, \\nbreathing trouble.',\n",
       "       'healthy', 'healthy', 'lowHR : Bradycardia, weight gain',\n",
       "       'healthy', 'healthy',\n",
       "       'lowSP : Anemia,Asthma,Emphysema,chronic obstructiv\\ne pulmonary desiese',\n",
       "       'healthy', 'highSP: Oxygen taxicity, cough, breathing trouble',\n",
       "       'healthy', 'healthy', 'healthy',\n",
       "       'lowSP : Anemia,Asthma,Emphysema,chronic obstructiv\\ne pulmonary desiese',\n",
       "       'healthy', 'healthy',\n",
       "       'danger : Bradycardia, weight gain, Anemia,Asthma,Emphysema,chronic obstructiv\\ne pulmonary desiese',\n",
       "       'causion : Tachycardia, heart Attack, Oxygen taxicity, cough, \\nbreathing trouble.',\n",
       "       'healthy', 'healthy', 'healthy',\n",
       "       'lowHR : Bradycardia, weight gain', 'healthy', 'healthy',\n",
       "       'lowSP : Anemia,Asthma,Emphysema,chronic obstructiv\\ne pulmonary desiese',\n",
       "       'healthy'], dtype=object)"
      ]
     },
     "execution_count": 55,
     "metadata": {},
     "output_type": "execute_result"
    }
   ],
   "source": [
    "y1_predict1 = sv1.predict(X)\n",
    "y1_predict1"
   ]
  },
  {
   "cell_type": "code",
   "execution_count": 38,
   "id": "22569783",
   "metadata": {},
   "outputs": [
    {
     "name": "stderr",
     "output_type": "stream",
     "text": [
      "C:\\Users\\stars\\anaconda3\\lib\\site-packages\\sklearn\\base.py:450: UserWarning: X does not have valid feature names, but SVC was fitted with feature names\n",
      "  warnings.warn(\n"
     ]
    },
    {
     "data": {
      "text/plain": [
       "array(['highHR: Tachycardia, heart Attack'], dtype=object)"
      ]
     },
     "execution_count": 38,
     "metadata": {},
     "output_type": "execute_result"
    }
   ],
   "source": [
    "sv1.predict([[a,b]])"
   ]
  },
  {
   "cell_type": "code",
   "execution_count": 39,
   "id": "8591bf5c",
   "metadata": {},
   "outputs": [],
   "source": [
    "from sklearn.metrics import confusion_matrix, accuracy_score"
   ]
  },
  {
   "cell_type": "code",
   "execution_count": 56,
   "id": "d3121e69",
   "metadata": {},
   "outputs": [
    {
     "data": {
      "text/plain": [
       "0.9842105263157894"
      ]
     },
     "execution_count": 56,
     "metadata": {},
     "output_type": "execute_result"
    }
   ],
   "source": [
    "accuracy_score(Y, y1_predict1)"
   ]
  },
  {
   "cell_type": "markdown",
   "id": "703b841c",
   "metadata": {},
   "source": [
    "### Decision Tree\n",
    "- RP"
   ]
  },
  {
   "cell_type": "code",
   "execution_count": 41,
   "id": "37fb4098",
   "metadata": {},
   "outputs": [],
   "source": [
    "from sklearn.metrics import confusion_matrix, accuracy_score\n"
   ]
  },
  {
   "cell_type": "code",
   "execution_count": 42,
   "id": "446991f8",
   "metadata": {},
   "outputs": [],
   "source": [
    "from sklearn.tree import DecisionTreeClassifier\n",
    "dcl1 = DecisionTreeClassifier(criterion='gini', \n",
    "                              max_depth = 2)"
   ]
  },
  {
   "cell_type": "code",
   "execution_count": 43,
   "id": "ae16b157",
   "metadata": {},
   "outputs": [
    {
     "data": {
      "text/html": [
       "<style>#sk-container-id-4 {color: black;background-color: white;}#sk-container-id-4 pre{padding: 0;}#sk-container-id-4 div.sk-toggleable {background-color: white;}#sk-container-id-4 label.sk-toggleable__label {cursor: pointer;display: block;width: 100%;margin-bottom: 0;padding: 0.3em;box-sizing: border-box;text-align: center;}#sk-container-id-4 label.sk-toggleable__label-arrow:before {content: \"▸\";float: left;margin-right: 0.25em;color: #696969;}#sk-container-id-4 label.sk-toggleable__label-arrow:hover:before {color: black;}#sk-container-id-4 div.sk-estimator:hover label.sk-toggleable__label-arrow:before {color: black;}#sk-container-id-4 div.sk-toggleable__content {max-height: 0;max-width: 0;overflow: hidden;text-align: left;background-color: #f0f8ff;}#sk-container-id-4 div.sk-toggleable__content pre {margin: 0.2em;color: black;border-radius: 0.25em;background-color: #f0f8ff;}#sk-container-id-4 input.sk-toggleable__control:checked~div.sk-toggleable__content {max-height: 200px;max-width: 100%;overflow: auto;}#sk-container-id-4 input.sk-toggleable__control:checked~label.sk-toggleable__label-arrow:before {content: \"▾\";}#sk-container-id-4 div.sk-estimator input.sk-toggleable__control:checked~label.sk-toggleable__label {background-color: #d4ebff;}#sk-container-id-4 div.sk-label input.sk-toggleable__control:checked~label.sk-toggleable__label {background-color: #d4ebff;}#sk-container-id-4 input.sk-hidden--visually {border: 0;clip: rect(1px 1px 1px 1px);clip: rect(1px, 1px, 1px, 1px);height: 1px;margin: -1px;overflow: hidden;padding: 0;position: absolute;width: 1px;}#sk-container-id-4 div.sk-estimator {font-family: monospace;background-color: #f0f8ff;border: 1px dotted black;border-radius: 0.25em;box-sizing: border-box;margin-bottom: 0.5em;}#sk-container-id-4 div.sk-estimator:hover {background-color: #d4ebff;}#sk-container-id-4 div.sk-parallel-item::after {content: \"\";width: 100%;border-bottom: 1px solid gray;flex-grow: 1;}#sk-container-id-4 div.sk-label:hover label.sk-toggleable__label {background-color: #d4ebff;}#sk-container-id-4 div.sk-serial::before {content: \"\";position: absolute;border-left: 1px solid gray;box-sizing: border-box;top: 0;bottom: 0;left: 50%;z-index: 0;}#sk-container-id-4 div.sk-serial {display: flex;flex-direction: column;align-items: center;background-color: white;padding-right: 0.2em;padding-left: 0.2em;position: relative;}#sk-container-id-4 div.sk-item {position: relative;z-index: 1;}#sk-container-id-4 div.sk-parallel {display: flex;align-items: stretch;justify-content: center;background-color: white;position: relative;}#sk-container-id-4 div.sk-item::before, #sk-container-id-4 div.sk-parallel-item::before {content: \"\";position: absolute;border-left: 1px solid gray;box-sizing: border-box;top: 0;bottom: 0;left: 50%;z-index: -1;}#sk-container-id-4 div.sk-parallel-item {display: flex;flex-direction: column;z-index: 1;position: relative;background-color: white;}#sk-container-id-4 div.sk-parallel-item:first-child::after {align-self: flex-end;width: 50%;}#sk-container-id-4 div.sk-parallel-item:last-child::after {align-self: flex-start;width: 50%;}#sk-container-id-4 div.sk-parallel-item:only-child::after {width: 0;}#sk-container-id-4 div.sk-dashed-wrapped {border: 1px dashed gray;margin: 0 0.4em 0.5em 0.4em;box-sizing: border-box;padding-bottom: 0.4em;background-color: white;}#sk-container-id-4 div.sk-label label {font-family: monospace;font-weight: bold;display: inline-block;line-height: 1.2em;}#sk-container-id-4 div.sk-label-container {text-align: center;}#sk-container-id-4 div.sk-container {/* jupyter's `normalize.less` sets `[hidden] { display: none; }` but bootstrap.min.css set `[hidden] { display: none !important; }` so we also need the `!important` here to be able to override the default hidden behavior on the sphinx rendered scikit-learn.org. See: https://github.com/scikit-learn/scikit-learn/issues/21755 */display: inline-block !important;position: relative;}#sk-container-id-4 div.sk-text-repr-fallback {display: none;}</style><div id=\"sk-container-id-4\" class=\"sk-top-container\"><div class=\"sk-text-repr-fallback\"><pre>DecisionTreeClassifier(max_depth=2)</pre><b>In a Jupyter environment, please rerun this cell to show the HTML representation or trust the notebook. <br />On GitHub, the HTML representation is unable to render, please try loading this page with nbviewer.org.</b></div><div class=\"sk-container\" hidden><div class=\"sk-item\"><div class=\"sk-estimator sk-toggleable\"><input class=\"sk-toggleable__control sk-hidden--visually\" id=\"sk-estimator-id-4\" type=\"checkbox\" checked><label for=\"sk-estimator-id-4\" class=\"sk-toggleable__label sk-toggleable__label-arrow\">DecisionTreeClassifier</label><div class=\"sk-toggleable__content\"><pre>DecisionTreeClassifier(max_depth=2)</pre></div></div></div></div></div>"
      ],
      "text/plain": [
       "DecisionTreeClassifier(max_depth=2)"
      ]
     },
     "execution_count": 43,
     "metadata": {},
     "output_type": "execute_result"
    }
   ],
   "source": [
    "dcl1.fit(x_train, y_train)\n"
   ]
  },
  {
   "cell_type": "code",
   "execution_count": 44,
   "id": "d93eaf12",
   "metadata": {},
   "outputs": [
    {
     "data": {
      "text/plain": [
       "array([[ 58,   0,   0,   0,   0,   0,   0,   0],\n",
       "       [  0,  58,   0,   0,   0,   0,   0,   0],\n",
       "       [  0,   0, 585,   0,   0,   0,   0,   0],\n",
       "       [  0,   0,   0,  30,   0,   0,   0,   0],\n",
       "       [  0,   0,   0,   0,  43,   0,   0,   0],\n",
       "       [  0,   0,   0,   0,   0,  59,   0,   0],\n",
       "       [  0,   0,   0,   0,   0,   0, 102,   0],\n",
       "       [  0,   0,   0,   0,   0,   0,  15,   0]], dtype=int64)"
      ]
     },
     "execution_count": 44,
     "metadata": {},
     "output_type": "execute_result"
    }
   ],
   "source": [
    "confusion_matrix(Y, y_predict1)"
   ]
  },
  {
   "cell_type": "code",
   "execution_count": 45,
   "id": "c6125639",
   "metadata": {},
   "outputs": [
    {
     "data": {
      "text/plain": [
       "0.9842105263157894"
      ]
     },
     "execution_count": 45,
     "metadata": {},
     "output_type": "execute_result"
    }
   ],
   "source": [
    "accuracy_score(Y, y_predict1)"
   ]
  },
  {
   "cell_type": "code",
   "execution_count": 46,
   "id": "74d20066",
   "metadata": {},
   "outputs": [
    {
     "name": "stderr",
     "output_type": "stream",
     "text": [
      "C:\\Users\\stars\\anaconda3\\lib\\site-packages\\sklearn\\base.py:450: UserWarning: X does not have valid feature names, but DecisionTreeClassifier was fitted with feature names\n",
      "  warnings.warn(\n"
     ]
    },
    {
     "data": {
      "text/plain": [
       "array(['danger : Bradycardia, weight gain, Anemia,Asthma,Emphysema,chronic obstructiv\\ne pulmonary desiese'],\n",
       "      dtype=object)"
      ]
     },
     "execution_count": 46,
     "metadata": {},
     "output_type": "execute_result"
    }
   ],
   "source": [
    "dcl1.predict([[a,b]])"
   ]
  },
  {
   "cell_type": "markdown",
   "id": "b211527c",
   "metadata": {},
   "source": [
    "#### Explonaory data analysis"
   ]
  },
  {
   "cell_type": "code",
   "execution_count": 47,
   "id": "22b15030",
   "metadata": {},
   "outputs": [],
   "source": [
    "from sklearn import tree\n",
    "import matplotlib.pyplot as plt"
   ]
  },
  {
   "cell_type": "code",
   "execution_count": 48,
   "id": "62bd051a",
   "metadata": {},
   "outputs": [
    {
     "data": {
      "image/png": "[encoded data removed]",
      "text/plain": [
       "<Figure size 432x288 with 1 Axes>"
      ]
     },
     "metadata": {
      "needs_background": "light"
     },
     "output_type": "display_data"
    }
   ],
   "source": [
    "tree.plot_tree(dcl1)\n",
    "plt.show()"
   ]
  },
  {
   "cell_type": "code",
   "execution_count": 49,
   "id": "a93be486",
   "metadata": {},
   "outputs": [],
   "source": [
    "import matplotlib.pyplot as plt\n",
    "import numpy as np\n",
    "import seaborn as sns"
   ]
  },
  {
   "cell_type": "code",
   "execution_count": 50,
   "id": "e2c35b60",
   "metadata": {},
   "outputs": [
    {
     "data": {
      "text/html": [
       "<div>\n",
       "<style scoped>\n",
       "    .dataframe tbody tr th:only-of-type {\n",
       "        vertical-align: middle;\n",
       "    }\n",
       "\n",
       "    .dataframe tbody tr th {\n",
       "        vertical-align: top;\n",
       "    }\n",
       "\n",
       "    .dataframe thead th {\n",
       "        text-align: right;\n",
       "    }\n",
       "</style>\n",
       "<table border=\"1\" class=\"dataframe\">\n",
       "  <thead>\n",
       "    <tr style=\"text-align: right;\">\n",
       "      <th></th>\n",
       "      <th>Spo2(%)</th>\n",
       "      <th>BPM</th>\n",
       "    </tr>\n",
       "  </thead>\n",
       "  <tbody>\n",
       "    <tr>\n",
       "      <th>0</th>\n",
       "      <td>94.8</td>\n",
       "      <td>72</td>\n",
       "    </tr>\n",
       "    <tr>\n",
       "      <th>1</th>\n",
       "      <td>97.8</td>\n",
       "      <td>99</td>\n",
       "    </tr>\n",
       "    <tr>\n",
       "      <th>2</th>\n",
       "      <td>97.8</td>\n",
       "      <td>58</td>\n",
       "    </tr>\n",
       "    <tr>\n",
       "      <th>3</th>\n",
       "      <td>98.2</td>\n",
       "      <td>188</td>\n",
       "    </tr>\n",
       "    <tr>\n",
       "      <th>4</th>\n",
       "      <td>97.7</td>\n",
       "      <td>89</td>\n",
       "    </tr>\n",
       "    <tr>\n",
       "      <th>...</th>\n",
       "      <td>...</td>\n",
       "      <td>...</td>\n",
       "    </tr>\n",
       "    <tr>\n",
       "      <th>945</th>\n",
       "      <td>97.8</td>\n",
       "      <td>58</td>\n",
       "    </tr>\n",
       "    <tr>\n",
       "      <th>946</th>\n",
       "      <td>98.2</td>\n",
       "      <td>88</td>\n",
       "    </tr>\n",
       "    <tr>\n",
       "      <th>947</th>\n",
       "      <td>97.7</td>\n",
       "      <td>89</td>\n",
       "    </tr>\n",
       "    <tr>\n",
       "      <th>948</th>\n",
       "      <td>78.4</td>\n",
       "      <td>73</td>\n",
       "    </tr>\n",
       "    <tr>\n",
       "      <th>949</th>\n",
       "      <td>97.3</td>\n",
       "      <td>87</td>\n",
       "    </tr>\n",
       "  </tbody>\n",
       "</table>\n",
       "<p>950 rows × 2 columns</p>\n",
       "</div>"
      ],
      "text/plain": [
       "     Spo2(%)  BPM\n",
       "0       94.8   72\n",
       "1       97.8   99\n",
       "2       97.8   58\n",
       "3       98.2  188\n",
       "4       97.7   89\n",
       "..       ...  ...\n",
       "945     97.8   58\n",
       "946     98.2   88\n",
       "947     97.7   89\n",
       "948     78.4   73\n",
       "949     97.3   87\n",
       "\n",
       "[950 rows x 2 columns]"
      ]
     },
     "execution_count": 50,
     "metadata": {},
     "output_type": "execute_result"
    }
   ],
   "source": [
    "X"
   ]
  },
  {
   "cell_type": "code",
   "execution_count": 51,
   "id": "abf5a904",
   "metadata": {},
   "outputs": [
    {
     "data": {
      "text/html": [
       "<div>\n",
       "<style scoped>\n",
       "    .dataframe tbody tr th:only-of-type {\n",
       "        vertical-align: middle;\n",
       "    }\n",
       "\n",
       "    .dataframe tbody tr th {\n",
       "        vertical-align: top;\n",
       "    }\n",
       "\n",
       "    .dataframe thead th {\n",
       "        text-align: right;\n",
       "    }\n",
       "</style>\n",
       "<table border=\"1\" class=\"dataframe\">\n",
       "  <thead>\n",
       "    <tr style=\"text-align: right;\">\n",
       "      <th></th>\n",
       "      <th>Spo2(%)</th>\n",
       "      <th>BPM</th>\n",
       "    </tr>\n",
       "  </thead>\n",
       "  <tbody>\n",
       "    <tr>\n",
       "      <th>0</th>\n",
       "      <td>94.8</td>\n",
       "      <td>72</td>\n",
       "    </tr>\n",
       "    <tr>\n",
       "      <th>1</th>\n",
       "      <td>97.8</td>\n",
       "      <td>99</td>\n",
       "    </tr>\n",
       "    <tr>\n",
       "      <th>2</th>\n",
       "      <td>97.8</td>\n",
       "      <td>58</td>\n",
       "    </tr>\n",
       "    <tr>\n",
       "      <th>3</th>\n",
       "      <td>98.2</td>\n",
       "      <td>188</td>\n",
       "    </tr>\n",
       "    <tr>\n",
       "      <th>4</th>\n",
       "      <td>97.7</td>\n",
       "      <td>89</td>\n",
       "    </tr>\n",
       "    <tr>\n",
       "      <th>...</th>\n",
       "      <td>...</td>\n",
       "      <td>...</td>\n",
       "    </tr>\n",
       "    <tr>\n",
       "      <th>945</th>\n",
       "      <td>97.8</td>\n",
       "      <td>58</td>\n",
       "    </tr>\n",
       "    <tr>\n",
       "      <th>946</th>\n",
       "      <td>98.2</td>\n",
       "      <td>88</td>\n",
       "    </tr>\n",
       "    <tr>\n",
       "      <th>947</th>\n",
       "      <td>97.7</td>\n",
       "      <td>89</td>\n",
       "    </tr>\n",
       "    <tr>\n",
       "      <th>948</th>\n",
       "      <td>78.4</td>\n",
       "      <td>73</td>\n",
       "    </tr>\n",
       "    <tr>\n",
       "      <th>949</th>\n",
       "      <td>97.3</td>\n",
       "      <td>87</td>\n",
       "    </tr>\n",
       "  </tbody>\n",
       "</table>\n",
       "<p>950 rows × 2 columns</p>\n",
       "</div>"
      ],
      "text/plain": [
       "     Spo2(%)  BPM\n",
       "0       94.8   72\n",
       "1       97.8   99\n",
       "2       97.8   58\n",
       "3       98.2  188\n",
       "4       97.7   89\n",
       "..       ...  ...\n",
       "945     97.8   58\n",
       "946     98.2   88\n",
       "947     97.7   89\n",
       "948     78.4   73\n",
       "949     97.3   87\n",
       "\n",
       "[950 rows x 2 columns]"
      ]
     },
     "execution_count": 51,
     "metadata": {},
     "output_type": "execute_result"
    }
   ],
   "source": [
    "x2=pd.DataFrame(X)\n",
    "x2"
   ]
  },
  {
   "cell_type": "code",
   "execution_count": 52,
   "id": "e1c2e40c",
   "metadata": {},
   "outputs": [
    {
     "data": {
      "text/html": [
       "<div>\n",
       "<style scoped>\n",
       "    .dataframe tbody tr th:only-of-type {\n",
       "        vertical-align: middle;\n",
       "    }\n",
       "\n",
       "    .dataframe tbody tr th {\n",
       "        vertical-align: top;\n",
       "    }\n",
       "\n",
       "    .dataframe thead th {\n",
       "        text-align: right;\n",
       "    }\n",
       "</style>\n",
       "<table border=\"1\" class=\"dataframe\">\n",
       "  <thead>\n",
       "    <tr style=\"text-align: right;\">\n",
       "      <th></th>\n",
       "      <th>0</th>\n",
       "    </tr>\n",
       "  </thead>\n",
       "  <tbody>\n",
       "    <tr>\n",
       "      <th>0</th>\n",
       "      <td>94.8</td>\n",
       "    </tr>\n",
       "    <tr>\n",
       "      <th>1</th>\n",
       "      <td>97.8</td>\n",
       "    </tr>\n",
       "    <tr>\n",
       "      <th>2</th>\n",
       "      <td>97.8</td>\n",
       "    </tr>\n",
       "    <tr>\n",
       "      <th>3</th>\n",
       "      <td>98.2</td>\n",
       "    </tr>\n",
       "    <tr>\n",
       "      <th>4</th>\n",
       "      <td>97.7</td>\n",
       "    </tr>\n",
       "    <tr>\n",
       "      <th>...</th>\n",
       "      <td>...</td>\n",
       "    </tr>\n",
       "    <tr>\n",
       "      <th>1895</th>\n",
       "      <td>58.0</td>\n",
       "    </tr>\n",
       "    <tr>\n",
       "      <th>1896</th>\n",
       "      <td>88.0</td>\n",
       "    </tr>\n",
       "    <tr>\n",
       "      <th>1897</th>\n",
       "      <td>89.0</td>\n",
       "    </tr>\n",
       "    <tr>\n",
       "      <th>1898</th>\n",
       "      <td>73.0</td>\n",
       "    </tr>\n",
       "    <tr>\n",
       "      <th>1899</th>\n",
       "      <td>87.0</td>\n",
       "    </tr>\n",
       "  </tbody>\n",
       "</table>\n",
       "<p>1900 rows × 1 columns</p>\n",
       "</div>"
      ],
      "text/plain": [
       "         0\n",
       "0     94.8\n",
       "1     97.8\n",
       "2     97.8\n",
       "3     98.2\n",
       "4     97.7\n",
       "...    ...\n",
       "1895  58.0\n",
       "1896  88.0\n",
       "1897  89.0\n",
       "1898  73.0\n",
       "1899  87.0\n",
       "\n",
       "[1900 rows x 1 columns]"
      ]
     },
     "execution_count": 52,
     "metadata": {},
     "output_type": "execute_result"
    }
   ],
   "source": [
    "l1=x2['Spo2(%)'].tolist()\n",
    "l2=x2['BPM'].tolist()\n",
    "X1=l1+l2\n",
    "X1=pd.DataFrame(X1)\n",
    "X1"
   ]
  },
  {
   "cell_type": "code",
   "execution_count": 53,
   "id": "345f91fb",
   "metadata": {
    "scrolled": true
   },
   "outputs": [
    {
     "name": "stderr",
     "output_type": "stream",
     "text": [
      "C:\\Users\\stars\\anaconda3\\lib\\site-packages\\seaborn\\_decorators.py:36: FutureWarning: Pass the following variable as a keyword arg: x. From version 0.12, the only valid positional argument will be `data`, and passing other arguments without an explicit keyword will result in an error or misinterpretation.\n",
      "  warnings.warn(\n"
     ]
    },
    {
     "data": {
      "image/png": "[encoded data removed]",
      "text/plain": [
       "<Figure size 288x432 with 1 Axes>"
      ]
     },
     "metadata": {
      "needs_background": "light"
     },
     "output_type": "display_data"
    }
   ],
   "source": [
    "plt.subplots(figsize=(4,6))\n",
    "sns.countplot(Y, data=X1)\n",
    "plt.xlabel(\"condition\")\n",
    "plt.title(\"health monitoring\")\n",
    "plt.show()"
   ]
  },
  {
   "cell_type": "code",
   "execution_count": null,
   "id": "06979483",
   "metadata": {},
   "outputs": [],
   "source": []
  },
  {
   "cell_type": "code",
   "execution_count": null,
   "id": "b0114e5c",
   "metadata": {},
   "outputs": [],
   "source": []
  },
  {
   "cell_type": "code",
   "execution_count": null,
   "id": "0e3e44c9",
   "metadata": {},
   "outputs": [],
   "source": []
  }
 ],
 "metadata": {
  "kernelspec": {
   "display_name": "Python 3 (ipykernel)",
   "language": "python",
   "name": "python3"
  },
  "language_info": {
   "codemirror_mode": {
    "name": "ipython",
    "version": 3
   },
   "file_extension": ".py",
   "mimetype": "text/x-python",
   "name": "python",
   "nbconvert_exporter": "python",
   "pygments_lexer": "ipython3",
   "version": "3.9.12"
  }
 },
 "nbformat": 4,
 "nbformat_minor": 5
}
